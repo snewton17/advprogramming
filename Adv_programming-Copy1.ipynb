{
 "cells": [
  {
   "cell_type": "markdown",
   "id": "9383bafa",
   "metadata": {},
   "source": [
    "### Python Programming Concepts"
   ]
  },
  {
   "cell_type": "markdown",
   "id": "17df7d6e",
   "metadata": {},
   "source": [
    "#### 1. Create a variable to store the value 500 for sales"
   ]
  },
  {
   "cell_type": "code",
   "execution_count": 1,
   "id": "a5f43c2f",
   "metadata": {},
   "outputs": [],
   "source": [
    "sales = 500"
   ]
  },
  {
   "cell_type": "markdown",
   "id": "6dc8b9ea",
   "metadata": {},
   "source": [
    "#### 2. Create a variable to store several values:  \n",
    "* sales: 500, 475, 625\n",
    "* integers 1 - 9 "
   ]
  },
  {
   "cell_type": "code",
   "execution_count": 49,
   "id": "902fe3bd",
   "metadata": {},
   "outputs": [],
   "source": [
    "sales = [500,475,625]\n",
    "integers = list(range(1,10))"
   ]
  },
  {
   "cell_type": "markdown",
   "id": "62e55953",
   "metadata": {},
   "source": [
    "#### 3. Create a variable to store the names and email addresses for a number of customers\n",
    "* John, john@some.com; Ann, ann@some.com"
   ]
  },
  {
   "cell_type": "code",
   "execution_count": 56,
   "id": "03f2b161",
   "metadata": {},
   "outputs": [
    {
     "data": {
      "text/plain": [
       "dict_values(['John', 'john@some.come'])"
      ]
     },
     "execution_count": 56,
     "metadata": {},
     "output_type": "execute_result"
    }
   ],
   "source": [
    "customers = [{\"name\": \"John\", \"email\": \"john@some.come\"},{\"name\": \"Ann\", \"email\": \"ann@some.come\"}]\n",
    "customers[0].keys()\n",
    "customers[0].values()"
   ]
  },
  {
   "cell_type": "markdown",
   "id": "d6b1e8c6",
   "metadata": {},
   "source": [
    "#### 4. Use Python to generate a random value based on each of following:\n",
    "1. between 0 and 1\n",
    "2. the standard normal distribution (rounded to two decimal places)\n",
    "3. a value between 1 and 10\n",
    "4. either H or T"
   ]
  },
  {
   "cell_type": "code",
   "execution_count": 4,
   "id": "f004d7b5",
   "metadata": {},
   "outputs": [
    {
     "name": "stdout",
     "output_type": "stream",
     "text": [
      "0.8802488789297551\n"
     ]
    }
   ],
   "source": [
    "#1\n",
    "import random\n",
    "random_float = random.random() #between 0 and 1\n",
    "print(random_float)"
   ]
  },
  {
   "cell_type": "code",
   "execution_count": 5,
   "id": "a8efc6fc",
   "metadata": {},
   "outputs": [
    {
     "data": {
      "text/plain": [
       "-0.26720060515175315"
      ]
     },
     "execution_count": 5,
     "metadata": {},
     "output_type": "execute_result"
    }
   ],
   "source": [
    "#2\n",
    "random.gauss(0,1)"
   ]
  },
  {
   "cell_type": "code",
   "execution_count": 6,
   "id": "1a29e601",
   "metadata": {},
   "outputs": [
    {
     "name": "stdout",
     "output_type": "stream",
     "text": [
      "10\n"
     ]
    }
   ],
   "source": [
    "#3\n",
    "random_integer = random.randint(1,10)\n",
    "print(random_integer)"
   ]
  },
  {
   "cell_type": "code",
   "execution_count": 63,
   "id": "3a150c3e",
   "metadata": {},
   "outputs": [
    {
     "data": {
      "text/plain": [
       "'T'"
      ]
     },
     "execution_count": 63,
     "metadata": {},
     "output_type": "execute_result"
    }
   ],
   "source": [
    "#4\n",
    "random.choice(['H', 'T'])"
   ]
  },
  {
   "cell_type": "code",
   "execution_count": 65,
   "id": "f80f4b3b",
   "metadata": {},
   "outputs": [
    {
     "name": "stdout",
     "output_type": "stream",
     "text": [
      "HTHTHHHHTT\n"
     ]
    },
    {
     "data": {
      "text/plain": [
       "['H', 'H', 'HHHH', '', '']"
      ]
     },
     "execution_count": 65,
     "metadata": {},
     "output_type": "execute_result"
    }
   ],
   "source": [
    "#Flip a coin 10 times and show the turns\n",
    "flips = ''\n",
    "for flip in range(10):\n",
    "    flips += random.choice(['H', 'T'])\n",
    "print(flips)\n",
    "flips.split('T')"
   ]
  },
  {
   "cell_type": "code",
   "execution_count": null,
   "id": "bdb52b86",
   "metadata": {},
   "outputs": [],
   "source": []
  },
  {
   "cell_type": "markdown",
   "id": "7eddf06a",
   "metadata": {},
   "source": [
    "#### 5. Use Python to determine your current working directory"
   ]
  },
  {
   "cell_type": "code",
   "execution_count": 67,
   "id": "d8f79474",
   "metadata": {},
   "outputs": [
    {
     "data": {
      "text/plain": [
       "['.ipynb_checkpoints', '01-python_concepts.ipynb']"
      ]
     },
     "execution_count": 67,
     "metadata": {},
     "output_type": "execute_result"
    }
   ],
   "source": [
    "import os\n",
    "os.getcwd()\n",
    "\n",
    "os.listdir()"
   ]
  },
  {
   "cell_type": "markdown",
   "id": "fc43ec50",
   "metadata": {},
   "source": [
    "#### 6. Use Python to determine how many days until New Year's Day"
   ]
  },
  {
   "cell_type": "code",
   "execution_count": 73,
   "id": "13f630fe",
   "metadata": {},
   "outputs": [
    {
     "data": {
      "text/plain": [
       "datetime.timedelta(days=350)"
      ]
     },
     "execution_count": 73,
     "metadata": {},
     "output_type": "execute_result"
    }
   ],
   "source": [
    "import datetime as dt\n",
    "today = dt.date.today()\n",
    "\n",
    "days_to_ny = dt.date(2025,1,1)\n",
    "\n",
    "days_to_ny - today"
   ]
  },
  {
   "cell_type": "markdown",
   "id": "2ba4ea92",
   "metadata": {},
   "source": [
    "#### 7. Write a short program that displays the future value of 1,000 earning 5%  at the end of each year for the next 5 years"
   ]
  },
  {
   "cell_type": "code",
   "execution_count": 76,
   "id": "6fef4a8c",
   "metadata": {},
   "outputs": [
    {
     "name": "stdout",
     "output_type": "stream",
     "text": [
      "1050.0\n",
      "1102.5\n",
      "1157.6250000000002\n",
      "1215.5062500000001\n",
      "1276.2815625000003\n"
     ]
    }
   ],
   "source": [
    "pv = 1000\n",
    "rate = .05\n",
    "years = 5\n",
    "for year in range(1, years + 1):\n",
    "    print(pv*(1+rate)**year)"
   ]
  },
  {
   "cell_type": "markdown",
   "id": "150201c8",
   "metadata": {},
   "source": [
    "#### 8. Write a short program that prompts a user to enter a stock symbol and press enter. Add each symbol entered to a variable. The program should run until the user presses the enter key without entering anything (empty string) "
   ]
  },
  {
   "cell_type": "code",
   "execution_count": 75,
   "id": "931a346f",
   "metadata": {},
   "outputs": [
    {
     "name": "stdout",
     "output_type": "stream",
     "text": [
      "enter stock symbol or press enter to quit: \n",
      "[]\n"
     ]
    }
   ],
   "source": [
    "stocks = []\n",
    "while True: \n",
    "    symbol = input(\"enter stock symbol or press enter to quit: \")\n",
    "    if symbol == '':\n",
    "        break\n",
    "    stocks.append(symbol)\n",
    "print(stocks)"
   ]
  },
  {
   "cell_type": "markdown",
   "id": "fc2a7592",
   "metadata": {},
   "source": [
    "#### 9. Write the code necessary to calculate the sum of the square differences of a group of values : \n",
    "58, 32, 37, 41, 36, 36, 54, 37, 25, 53\n",
    "##### $\\Sigma $(${x}$ - $\\bar{x}$)$^2$"
   ]
  },
  {
   "cell_type": "code",
   "execution_count": 34,
   "id": "540cff2a",
   "metadata": {},
   "outputs": [
    {
     "name": "stdout",
     "output_type": "stream",
     "text": [
      "40.9\n",
      "1020.9000000000001\n"
     ]
    }
   ],
   "source": [
    "numbers = [58, 32, 37, 41, 36, 36, 54, 37, 25, 53]\n",
    "average = sum(numbers)/len(numbers)\n",
    "print(average)\n",
    "lis = []\n",
    "for i in numbers:\n",
    "    value = (i - average)**2\n",
    "    lis.append(value)\n",
    "\n",
    "print(sum(lis))"
   ]
  },
  {
   "cell_type": "markdown",
   "id": "89a7db2f",
   "metadata": {},
   "source": []
  },
  {
   "cell_type": "markdown",
   "id": "6d6f2e64",
   "metadata": {},
   "source": [
    "#### 10. Opening, reading and writing files"
   ]
  },
  {
   "cell_type": "code",
   "execution_count": null,
   "id": "f7fa569d",
   "metadata": {},
   "outputs": [],
   "source": []
  },
  {
   "cell_type": "markdown",
   "id": "eec548d6",
   "metadata": {},
   "source": [
    "#### 11. Create a function the will simulate rolling two die and return the value of each and and the sum "
   ]
  },
  {
   "cell_type": "code",
   "execution_count": 8,
   "id": "bb115cdc",
   "metadata": {},
   "outputs": [],
   "source": [
    "def twodie():\n",
    "    die1 = random.randrange(1,6)\n",
    "    die2 = random.randrange(1,6)\n"
   ]
  },
  {
   "cell_type": "markdown",
   "id": "21556d7f",
   "metadata": {},
   "source": [
    "#### 12. Write the code needed to evaluate whether a value in a group of values is negative or postive and prints an approriate message, i.e. postive, negative \n",
    "-1.59, 2.36, 1.69, 1.13, -0.91, 1.48, -0.34, 1.31, -0.74, 0.2"
   ]
  },
  {
   "cell_type": "code",
   "execution_count": 48,
   "id": "d6c38ecb",
   "metadata": {},
   "outputs": [
    {
     "name": "stdout",
     "output_type": "stream",
     "text": [
      "negative\n",
      "positive\n"
     ]
    }
   ],
   "source": [
    "def posneg(x):\n",
    "    if x < 0:\n",
    "        print('negative')\n",
    "    else:\n",
    "        print('positive')\n",
    "posneg(-1.59)\n",
    "posneg(2.36)"
   ]
  },
  {
   "cell_type": "code",
   "execution_count": null,
   "id": "aaefba17",
   "metadata": {},
   "outputs": [],
   "source": []
  },
  {
   "cell_type": "markdown",
   "id": "8cafe65c",
   "metadata": {},
   "source": [
    "#### 14.  Complete the following:\n",
    "1. Write a program that generates 500 random integers from 1 to n, for example, the first integer will be 1 the second will be 1 or 2, the fifth between 1 and 5, and so on.\n",
    "2. The program should write each integer to a file \n",
    "3. Once all integers are written close the file\n",
    "\n",
    "##### Part 2\n",
    "1. Open and read the file into a list\n",
    "2. Create a line plot of the data"
   ]
  },
  {
   "cell_type": "code",
   "execution_count": 16,
   "id": "60a910bb",
   "metadata": {},
   "outputs": [
    {
     "name": "stdout",
     "output_type": "stream",
     "text": [
      "[305]\n"
     ]
    }
   ],
   "source": [
    "def random_numbers(n):\n",
    "    randnum = []\n",
    "    for i in range(500):\n",
    "        randnum.append(random.randint(i+1,n))\n",
    "        return randnum\n",
    "print(random_numbers(500))"
   ]
  },
  {
   "cell_type": "code",
   "execution_count": 14,
   "id": "d6b4180c",
   "metadata": {},
   "outputs": [
    {
     "name": "stdout",
     "output_type": "stream",
     "text": [
      "417\n"
     ]
    }
   ],
   "source": [
    "random_integer = random.randint(1,500)\n",
    "print(random_integer)"
   ]
  },
  {
   "cell_type": "code",
   "execution_count": null,
   "id": "adb6aa11",
   "metadata": {},
   "outputs": [],
   "source": []
  },
  {
   "cell_type": "code",
   "execution_count": null,
   "id": "6745da79",
   "metadata": {},
   "outputs": [],
   "source": []
  },
  {
   "cell_type": "code",
   "execution_count": null,
   "id": "21140445",
   "metadata": {},
   "outputs": [],
   "source": []
  },
  {
   "cell_type": "code",
   "execution_count": null,
   "id": "3d546600",
   "metadata": {},
   "outputs": [],
   "source": []
  }
 ],
 "metadata": {
  "kernelspec": {
   "display_name": "Python 3 (ipykernel)",
   "language": "python",
   "name": "python3"
  },
  "language_info": {
   "codemirror_mode": {
    "name": "ipython",
    "version": 3
   },
   "file_extension": ".py",
   "mimetype": "text/x-python",
   "name": "python",
   "nbconvert_exporter": "python",
   "pygments_lexer": "ipython3",
   "version": "3.11.5"
  }
 },
 "nbformat": 4,
 "nbformat_minor": 5
}
