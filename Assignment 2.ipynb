{
 "cells": [
  {
   "cell_type": "markdown",
   "id": "c441e4ca",
   "metadata": {},
   "source": [
    "# Assignment 2\n",
    "* In this assignment you will be working with three data files from iMDB:\n",
    "    * cast.csv\n",
    "    * release_dates.csv\n",
    "    * titles.csv\n",
    "* Using the appropriate file(s), answer the following questions\n",
    "* Some questions can be completed with one-liners while others are a bit more involved\n",
    "* Where appropriate, answers should also provide brief commentary\n",
    "* Exclude data that doen't make senss, i.e. data from the future\n",
    "* Once complete upload this notebook to your classwork Github repo and post the link on Canvas "
   ]
  },
  {
   "cell_type": "code",
   "execution_count": 63,
   "id": "391f0f9f",
   "metadata": {},
   "outputs": [],
   "source": [
    "from datetime import datetime\n",
    "import numpy as np\n",
    "import pandas as pd\n",
    "import matplotlib.pyplot as plt\n",
    "import seaborn as sns"
   ]
  },
  {
   "cell_type": "code",
   "execution_count": 113,
   "id": "f4594546",
   "metadata": {},
   "outputs": [],
   "source": [
    "cast = pd.read_csv('cast.csv')"
   ]
  },
  {
   "cell_type": "code",
   "execution_count": 114,
   "id": "f84aa484",
   "metadata": {},
   "outputs": [],
   "source": [
    "release = pd.read_csv('release_dates.csv')"
   ]
  },
  {
   "cell_type": "code",
   "execution_count": 115,
   "id": "3590fcae",
   "metadata": {},
   "outputs": [],
   "source": [
    "titles = pd.read_csv('titles.csv')"
   ]
  },
  {
   "cell_type": "markdown",
   "id": "7f3efd04",
   "metadata": {},
   "source": [
    "### 1. Conduct a high level assessment of the three data files, i.e. how many records are there, what kind of data, etc. Summarize your findings with annotation. "
   ]
  },
  {
   "cell_type": "code",
   "execution_count": 116,
   "id": "03bc8314",
   "metadata": {},
   "outputs": [
    {
     "data": {
      "text/plain": [
       "title        3442896\n",
       "year         3442902\n",
       "name         3442902\n",
       "type         3442902\n",
       "character    3442894\n",
       "n            2115119\n",
       "dtype: int64"
      ]
     },
     "execution_count": 116,
     "metadata": {},
     "output_type": "execute_result"
    }
   ],
   "source": [
    "cast.count()"
   ]
  },
  {
   "cell_type": "code",
   "execution_count": 117,
   "id": "3860a6d4",
   "metadata": {},
   "outputs": [
    {
     "data": {
      "text/html": [
       "<div>\n",
       "<style scoped>\n",
       "    .dataframe tbody tr th:only-of-type {\n",
       "        vertical-align: middle;\n",
       "    }\n",
       "\n",
       "    .dataframe tbody tr th {\n",
       "        vertical-align: top;\n",
       "    }\n",
       "\n",
       "    .dataframe thead th {\n",
       "        text-align: right;\n",
       "    }\n",
       "</style>\n",
       "<table border=\"1\" class=\"dataframe\">\n",
       "  <thead>\n",
       "    <tr style=\"text-align: right;\">\n",
       "      <th></th>\n",
       "      <th>title</th>\n",
       "      <th>year</th>\n",
       "      <th>name</th>\n",
       "      <th>type</th>\n",
       "      <th>character</th>\n",
       "      <th>n</th>\n",
       "    </tr>\n",
       "  </thead>\n",
       "  <tbody>\n",
       "    <tr>\n",
       "      <th>0</th>\n",
       "      <td>Closet Monster</td>\n",
       "      <td>2015</td>\n",
       "      <td>Buffy #1</td>\n",
       "      <td>actor</td>\n",
       "      <td>Buffy 4</td>\n",
       "      <td>31.0</td>\n",
       "    </tr>\n",
       "    <tr>\n",
       "      <th>1</th>\n",
       "      <td>Suuri illusioni</td>\n",
       "      <td>1985</td>\n",
       "      <td>Homo $</td>\n",
       "      <td>actor</td>\n",
       "      <td>Guests</td>\n",
       "      <td>22.0</td>\n",
       "    </tr>\n",
       "    <tr>\n",
       "      <th>2</th>\n",
       "      <td>Battle of the Sexes</td>\n",
       "      <td>2017</td>\n",
       "      <td>$hutter</td>\n",
       "      <td>actor</td>\n",
       "      <td>Bobby Riggs Fan</td>\n",
       "      <td>10.0</td>\n",
       "    </tr>\n",
       "    <tr>\n",
       "      <th>3</th>\n",
       "      <td>Secret in Their Eyes</td>\n",
       "      <td>2015</td>\n",
       "      <td>$hutter</td>\n",
       "      <td>actor</td>\n",
       "      <td>2002 Dodger Fan</td>\n",
       "      <td>NaN</td>\n",
       "    </tr>\n",
       "    <tr>\n",
       "      <th>4</th>\n",
       "      <td>Steve Jobs</td>\n",
       "      <td>2015</td>\n",
       "      <td>$hutter</td>\n",
       "      <td>actor</td>\n",
       "      <td>1988 Opera House Patron</td>\n",
       "      <td>NaN</td>\n",
       "    </tr>\n",
       "  </tbody>\n",
       "</table>\n",
       "</div>"
      ],
      "text/plain": [
       "                  title  year      name   type                character     n\n",
       "0        Closet Monster  2015  Buffy #1  actor                  Buffy 4  31.0\n",
       "1       Suuri illusioni  1985    Homo $  actor                   Guests  22.0\n",
       "2   Battle of the Sexes  2017   $hutter  actor          Bobby Riggs Fan  10.0\n",
       "3  Secret in Their Eyes  2015   $hutter  actor          2002 Dodger Fan   NaN\n",
       "4            Steve Jobs  2015   $hutter  actor  1988 Opera House Patron   NaN"
      ]
     },
     "execution_count": 117,
     "metadata": {},
     "output_type": "execute_result"
    }
   ],
   "source": [
    "cast.head()"
   ]
  },
  {
   "cell_type": "code",
   "execution_count": 118,
   "id": "f3cfff72",
   "metadata": {},
   "outputs": [
    {
     "data": {
      "text/plain": [
       "(3442902, 6)"
      ]
     },
     "execution_count": 118,
     "metadata": {},
     "output_type": "execute_result"
    }
   ],
   "source": [
    "cast.shape"
   ]
  },
  {
   "cell_type": "markdown",
   "id": "085c3ac4",
   "metadata": {},
   "source": [
    "In the dataset 'Cast', there are 3442902 rows and 6 columns. The column names are title, year, name, type, character and n. If n is 1, that means that person was the star of the movie. There also seems to be a lot of missing variables for n. "
   ]
  },
  {
   "cell_type": "code",
   "execution_count": 119,
   "id": "56aa5b16",
   "metadata": {},
   "outputs": [
    {
     "data": {
      "text/plain": [
       "title    226012\n",
       "year     226013\n",
       "dtype: int64"
      ]
     },
     "execution_count": 119,
     "metadata": {},
     "output_type": "execute_result"
    }
   ],
   "source": [
    "titles.count()"
   ]
  },
  {
   "cell_type": "code",
   "execution_count": 120,
   "id": "25c24327",
   "metadata": {},
   "outputs": [
    {
     "data": {
      "text/html": [
       "<div>\n",
       "<style scoped>\n",
       "    .dataframe tbody tr th:only-of-type {\n",
       "        vertical-align: middle;\n",
       "    }\n",
       "\n",
       "    .dataframe tbody tr th {\n",
       "        vertical-align: top;\n",
       "    }\n",
       "\n",
       "    .dataframe thead th {\n",
       "        text-align: right;\n",
       "    }\n",
       "</style>\n",
       "<table border=\"1\" class=\"dataframe\">\n",
       "  <thead>\n",
       "    <tr style=\"text-align: right;\">\n",
       "      <th></th>\n",
       "      <th>title</th>\n",
       "      <th>year</th>\n",
       "    </tr>\n",
       "  </thead>\n",
       "  <tbody>\n",
       "    <tr>\n",
       "      <th>0</th>\n",
       "      <td>Ankara ekspresi</td>\n",
       "      <td>1952</td>\n",
       "    </tr>\n",
       "    <tr>\n",
       "      <th>1</th>\n",
       "      <td>Ans Vaterland, ans teure</td>\n",
       "      <td>1915</td>\n",
       "    </tr>\n",
       "    <tr>\n",
       "      <th>2</th>\n",
       "      <td>Miss Mohini</td>\n",
       "      <td>2002</td>\n",
       "    </tr>\n",
       "    <tr>\n",
       "      <th>3</th>\n",
       "      <td>La vera madre</td>\n",
       "      <td>1999</td>\n",
       "    </tr>\n",
       "    <tr>\n",
       "      <th>4</th>\n",
       "      <td>O Amerikanos</td>\n",
       "      <td>1993</td>\n",
       "    </tr>\n",
       "  </tbody>\n",
       "</table>\n",
       "</div>"
      ],
      "text/plain": [
       "                      title  year\n",
       "0           Ankara ekspresi  1952\n",
       "1  Ans Vaterland, ans teure  1915\n",
       "2               Miss Mohini  2002\n",
       "3             La vera madre  1999\n",
       "4              O Amerikanos  1993"
      ]
     },
     "execution_count": 120,
     "metadata": {},
     "output_type": "execute_result"
    }
   ],
   "source": [
    "titles.head()"
   ]
  },
  {
   "cell_type": "code",
   "execution_count": 121,
   "id": "2c327de4",
   "metadata": {},
   "outputs": [
    {
     "data": {
      "text/plain": [
       "(226013, 2)"
      ]
     },
     "execution_count": 121,
     "metadata": {},
     "output_type": "execute_result"
    }
   ],
   "source": [
    "titles.shape"
   ]
  },
  {
   "cell_type": "markdown",
   "id": "404f91bc",
   "metadata": {},
   "source": [
    "In the dataset 'Titles', there are 226013 rows and 2 columns. The column names are title and year. Neither title or year suffers from nas. "
   ]
  },
  {
   "cell_type": "code",
   "execution_count": 9,
   "id": "42ae6289",
   "metadata": {},
   "outputs": [
    {
     "data": {
      "text/plain": [
       "title      443485\n",
       "year       443486\n",
       "country    443486\n",
       "date       443486\n",
       "dtype: int64"
      ]
     },
     "execution_count": 9,
     "metadata": {},
     "output_type": "execute_result"
    }
   ],
   "source": [
    "release.count()"
   ]
  },
  {
   "cell_type": "code",
   "execution_count": 10,
   "id": "6b9c5954",
   "metadata": {},
   "outputs": [
    {
     "data": {
      "text/html": [
       "<div>\n",
       "<style scoped>\n",
       "    .dataframe tbody tr th:only-of-type {\n",
       "        vertical-align: middle;\n",
       "    }\n",
       "\n",
       "    .dataframe tbody tr th {\n",
       "        vertical-align: top;\n",
       "    }\n",
       "\n",
       "    .dataframe thead th {\n",
       "        text-align: right;\n",
       "    }\n",
       "</style>\n",
       "<table border=\"1\" class=\"dataframe\">\n",
       "  <thead>\n",
       "    <tr style=\"text-align: right;\">\n",
       "      <th></th>\n",
       "      <th>title</th>\n",
       "      <th>year</th>\n",
       "      <th>country</th>\n",
       "      <th>date</th>\n",
       "    </tr>\n",
       "  </thead>\n",
       "  <tbody>\n",
       "    <tr>\n",
       "      <th>0</th>\n",
       "      <td>#73, Shaanthi Nivaasa</td>\n",
       "      <td>2007</td>\n",
       "      <td>India</td>\n",
       "      <td>2007-06-15</td>\n",
       "    </tr>\n",
       "    <tr>\n",
       "      <th>1</th>\n",
       "      <td>#BKKY</td>\n",
       "      <td>2016</td>\n",
       "      <td>Cambodia</td>\n",
       "      <td>2017-10-12</td>\n",
       "    </tr>\n",
       "    <tr>\n",
       "      <th>2</th>\n",
       "      <td>#Beings</td>\n",
       "      <td>2015</td>\n",
       "      <td>Romania</td>\n",
       "      <td>2015-01-29</td>\n",
       "    </tr>\n",
       "    <tr>\n",
       "      <th>3</th>\n",
       "      <td>#Captured</td>\n",
       "      <td>2017</td>\n",
       "      <td>USA</td>\n",
       "      <td>2017-09-05</td>\n",
       "    </tr>\n",
       "    <tr>\n",
       "      <th>4</th>\n",
       "      <td>#Ewankosau saranghaeyo</td>\n",
       "      <td>2015</td>\n",
       "      <td>Philippines</td>\n",
       "      <td>2015-01-21</td>\n",
       "    </tr>\n",
       "  </tbody>\n",
       "</table>\n",
       "</div>"
      ],
      "text/plain": [
       "                    title  year      country        date\n",
       "0   #73, Shaanthi Nivaasa  2007        India  2007-06-15\n",
       "1                   #BKKY  2016     Cambodia  2017-10-12\n",
       "2                 #Beings  2015      Romania  2015-01-29\n",
       "3               #Captured  2017          USA  2017-09-05\n",
       "4  #Ewankosau saranghaeyo  2015  Philippines  2015-01-21"
      ]
     },
     "execution_count": 10,
     "metadata": {},
     "output_type": "execute_result"
    }
   ],
   "source": [
    "release.head()"
   ]
  },
  {
   "cell_type": "code",
   "execution_count": 122,
   "id": "b643d6b9",
   "metadata": {},
   "outputs": [
    {
     "data": {
      "text/plain": [
       "(443486, 4)"
      ]
     },
     "execution_count": 122,
     "metadata": {},
     "output_type": "execute_result"
    }
   ],
   "source": [
    "release.shape"
   ]
  },
  {
   "cell_type": "markdown",
   "id": "b77272fd",
   "metadata": {},
   "source": [
    "In the dataset 'Release', there are 443486 rows and 4 columns. The column names are title, year, country and date. None of these columns suffer from an abudance of nas. "
   ]
  },
  {
   "cell_type": "code",
   "execution_count": 128,
   "id": "29540cf5",
   "metadata": {},
   "outputs": [],
   "source": [
    "cast = cast[cast.year < 2023]  #removing any anomolies that may not be actual data. \n",
    "titles = titles[titles.year < 2023]\n",
    "release = release[release.year < 2023]"
   ]
  },
  {
   "cell_type": "markdown",
   "id": "8949aee1",
   "metadata": {},
   "source": [
    "### 2. How many movies have the title North by Northwest"
   ]
  },
  {
   "cell_type": "code",
   "execution_count": 129,
   "id": "712cba84",
   "metadata": {},
   "outputs": [
    {
     "data": {
      "text/plain": [
       "title               year\n",
       "North by Northwest  1959    1\n",
       "Name: count, dtype: int64"
      ]
     },
     "execution_count": 129,
     "metadata": {},
     "output_type": "execute_result"
    }
   ],
   "source": [
    "titles[titles['title'] == \"North by Northwest\"].value_counts()"
   ]
  },
  {
   "cell_type": "markdown",
   "id": "651191f3",
   "metadata": {},
   "source": [
    "### 3. How many version of Hamlet are there, when was the first made? the last?"
   ]
  },
  {
   "cell_type": "code",
   "execution_count": 130,
   "id": "1e421672",
   "metadata": {},
   "outputs": [
    {
     "data": {
      "text/plain": [
       "title    55\n",
       "year     55\n",
       "dtype: int64"
      ]
     },
     "execution_count": 130,
     "metadata": {},
     "output_type": "execute_result"
    }
   ],
   "source": [
    "titles[titles['title'].str.contains(\"Hamlet\", na=False)].count()"
   ]
  },
  {
   "cell_type": "code",
   "execution_count": 131,
   "id": "9b3d1391",
   "metadata": {},
   "outputs": [],
   "source": [
    "filter_titles = titles[titles['title'].str.contains(\"Hamlet\", na=False)].sort_values(by = 'year')"
   ]
  },
  {
   "cell_type": "code",
   "execution_count": 132,
   "id": "3a4855d3",
   "metadata": {},
   "outputs": [
    {
     "data": {
      "text/plain": [
       "'Hamlet'"
      ]
     },
     "execution_count": 132,
     "metadata": {},
     "output_type": "execute_result"
    }
   ],
   "source": [
    "filter_titles.iloc[0]['title'] #first"
   ]
  },
  {
   "cell_type": "code",
   "execution_count": 133,
   "id": "22f3f376",
   "metadata": {},
   "outputs": [
    {
     "data": {
      "text/plain": [
       "'Hamlet: The Fall of a Sparrow'"
      ]
     },
     "execution_count": 133,
     "metadata": {},
     "output_type": "execute_result"
    }
   ],
   "source": [
    "filter_titles.iloc[-1]['title'] #last"
   ]
  },
  {
   "cell_type": "markdown",
   "id": "5650b610",
   "metadata": {},
   "source": [
    "### 4. List all the movies called Treasure Island from oldest to newest"
   ]
  },
  {
   "cell_type": "code",
   "execution_count": 134,
   "id": "10a8351b",
   "metadata": {},
   "outputs": [
    {
     "data": {
      "text/html": [
       "<div>\n",
       "<style scoped>\n",
       "    .dataframe tbody tr th:only-of-type {\n",
       "        vertical-align: middle;\n",
       "    }\n",
       "\n",
       "    .dataframe tbody tr th {\n",
       "        vertical-align: top;\n",
       "    }\n",
       "\n",
       "    .dataframe thead th {\n",
       "        text-align: right;\n",
       "    }\n",
       "</style>\n",
       "<table border=\"1\" class=\"dataframe\">\n",
       "  <thead>\n",
       "    <tr style=\"text-align: right;\">\n",
       "      <th></th>\n",
       "      <th>title</th>\n",
       "      <th>year</th>\n",
       "    </tr>\n",
       "  </thead>\n",
       "  <tbody>\n",
       "    <tr>\n",
       "      <th>180911</th>\n",
       "      <td>Treasure Island</td>\n",
       "      <td>1918</td>\n",
       "    </tr>\n",
       "    <tr>\n",
       "      <th>108853</th>\n",
       "      <td>Treasure Island</td>\n",
       "      <td>1920</td>\n",
       "    </tr>\n",
       "    <tr>\n",
       "      <th>87953</th>\n",
       "      <td>Treasure Island</td>\n",
       "      <td>1934</td>\n",
       "    </tr>\n",
       "    <tr>\n",
       "      <th>5854</th>\n",
       "      <td>The Secret of Treasure Island</td>\n",
       "      <td>1938</td>\n",
       "    </tr>\n",
       "    <tr>\n",
       "      <th>126321</th>\n",
       "      <td>Treasure Island</td>\n",
       "      <td>1950</td>\n",
       "    </tr>\n",
       "    <tr>\n",
       "      <th>8382</th>\n",
       "      <td>Return to Treasure Island</td>\n",
       "      <td>1954</td>\n",
       "    </tr>\n",
       "    <tr>\n",
       "      <th>26147</th>\n",
       "      <td>Five on a Treasure Island</td>\n",
       "      <td>1957</td>\n",
       "    </tr>\n",
       "    <tr>\n",
       "      <th>190233</th>\n",
       "      <td>Treasure Island</td>\n",
       "      <td>1972</td>\n",
       "    </tr>\n",
       "    <tr>\n",
       "      <th>122150</th>\n",
       "      <td>Treasure Island</td>\n",
       "      <td>1973</td>\n",
       "    </tr>\n",
       "    <tr>\n",
       "      <th>52099</th>\n",
       "      <td>Treasure Island</td>\n",
       "      <td>1985</td>\n",
       "    </tr>\n",
       "    <tr>\n",
       "      <th>188775</th>\n",
       "      <td>Muppet Treasure Island</td>\n",
       "      <td>1996</td>\n",
       "    </tr>\n",
       "    <tr>\n",
       "      <th>27633</th>\n",
       "      <td>Treasure Island (II)</td>\n",
       "      <td>1999</td>\n",
       "    </tr>\n",
       "    <tr>\n",
       "      <th>36752</th>\n",
       "      <td>Treasure Island</td>\n",
       "      <td>1999</td>\n",
       "    </tr>\n",
       "    <tr>\n",
       "      <th>14019</th>\n",
       "      <td>Treasure Island Kids: The Mystery of Treasure ...</td>\n",
       "      <td>2006</td>\n",
       "    </tr>\n",
       "    <tr>\n",
       "      <th>11035</th>\n",
       "      <td>Pirates of Treasure Island</td>\n",
       "      <td>2006</td>\n",
       "    </tr>\n",
       "    <tr>\n",
       "      <th>7666</th>\n",
       "      <td>Treasure Island Kids: The Battle of Treasure I...</td>\n",
       "      <td>2006</td>\n",
       "    </tr>\n",
       "    <tr>\n",
       "      <th>202801</th>\n",
       "      <td>Treasure Island Kids: The Monster of Treasure ...</td>\n",
       "      <td>2006</td>\n",
       "    </tr>\n",
       "    <tr>\n",
       "      <th>160062</th>\n",
       "      <td>National Theatre Live: Treasure Island</td>\n",
       "      <td>2015</td>\n",
       "    </tr>\n",
       "  </tbody>\n",
       "</table>\n",
       "</div>"
      ],
      "text/plain": [
       "                                                    title  year\n",
       "180911                                    Treasure Island  1918\n",
       "108853                                    Treasure Island  1920\n",
       "87953                                     Treasure Island  1934\n",
       "5854                        The Secret of Treasure Island  1938\n",
       "126321                                    Treasure Island  1950\n",
       "8382                            Return to Treasure Island  1954\n",
       "26147                           Five on a Treasure Island  1957\n",
       "190233                                    Treasure Island  1972\n",
       "122150                                    Treasure Island  1973\n",
       "52099                                     Treasure Island  1985\n",
       "188775                             Muppet Treasure Island  1996\n",
       "27633                                Treasure Island (II)  1999\n",
       "36752                                     Treasure Island  1999\n",
       "14019   Treasure Island Kids: The Mystery of Treasure ...  2006\n",
       "11035                          Pirates of Treasure Island  2006\n",
       "7666    Treasure Island Kids: The Battle of Treasure I...  2006\n",
       "202801  Treasure Island Kids: The Monster of Treasure ...  2006\n",
       "160062             National Theatre Live: Treasure Island  2015"
      ]
     },
     "execution_count": 134,
     "metadata": {},
     "output_type": "execute_result"
    }
   ],
   "source": [
    "titles[titles['title'].str.contains(\"Treasure Island\", na=False)].sort_values(by = 'year')"
   ]
  },
  {
   "cell_type": "markdown",
   "id": "a94f4524",
   "metadata": {},
   "source": [
    "### 5. How many movies were made in 1950? 1980? 2000? What conclusions can you draw from these data points?"
   ]
  },
  {
   "cell_type": "code",
   "execution_count": 135,
   "id": "8d44bdb2",
   "metadata": {},
   "outputs": [
    {
     "data": {
      "text/plain": [
       "year\n",
       "1950    1109\n",
       "1980    1750\n",
       "2000    2568\n",
       "dtype: int64"
      ]
     },
     "execution_count": 135,
     "metadata": {},
     "output_type": "execute_result"
    }
   ],
   "source": [
    "titles[(titles['year']== 1950) | (titles['year'] == 1980) | (titles['year'] == 2000 )].groupby('year').size()"
   ]
  },
  {
   "cell_type": "markdown",
   "id": "1017219c",
   "metadata": {},
   "source": [
    "In 2000, there were more than double the movies made compared to 1950. There has been an increase in movies made per year throughout this time period. This could be due to the availability of television. Movies are much easier to access now than they were in the 1950s. "
   ]
  },
  {
   "cell_type": "markdown",
   "id": "0c34799c",
   "metadata": {},
   "source": [
    "### 6. How big was the cast of Metropolis\n"
   ]
  },
  {
   "cell_type": "code",
   "execution_count": 136,
   "id": "4461cc46",
   "metadata": {},
   "outputs": [
    {
     "data": {
      "text/plain": [
       "33"
      ]
     },
     "execution_count": 136,
     "metadata": {},
     "output_type": "execute_result"
    }
   ],
   "source": [
    "cast[cast['title'] == \"Metropolis\"]['name'].count()"
   ]
  },
  {
   "cell_type": "markdown",
   "id": "7dead3d7",
   "metadata": {},
   "source": [
    "### 7. How many roles for actors were there 1950's? 1990's"
   ]
  },
  {
   "cell_type": "code",
   "execution_count": 137,
   "id": "9f7336d3",
   "metadata": {},
   "outputs": [],
   "source": [
    "cast['decade']= (cast['year']/10).astype(int) * 10"
   ]
  },
  {
   "cell_type": "code",
   "execution_count": 138,
   "id": "a9701fa0",
   "metadata": {},
   "outputs": [
    {
     "data": {
      "text/plain": [
       "decade\n",
       "2010    1027836\n",
       "2000     676027\n",
       "1990     361218\n",
       "1980     257683\n",
       "1940     210670\n",
       "1950     209890\n",
       "1970     202992\n",
       "1930     198570\n",
       "1960     182616\n",
       "1920      71938\n",
       "1910      43129\n",
       "2020        238\n",
       "1900         70\n",
       "1890          3\n",
       "Name: count, dtype: int64"
      ]
     },
     "execution_count": 138,
     "metadata": {},
     "output_type": "execute_result"
    }
   ],
   "source": [
    "cast['decade'].value_counts()"
   ]
  },
  {
   "cell_type": "code",
   "execution_count": 139,
   "id": "69862708",
   "metadata": {},
   "outputs": [
    {
     "data": {
      "text/plain": [
       "type\n",
       "actor      153559\n",
       "actress     56331\n",
       "dtype: int64"
      ]
     },
     "execution_count": 139,
     "metadata": {},
     "output_type": "execute_result"
    }
   ],
   "source": [
    "cast[(cast['decade']== 1950)].groupby('type').size()"
   ]
  },
  {
   "cell_type": "code",
   "execution_count": 140,
   "id": "c66d6ee9",
   "metadata": {},
   "outputs": [
    {
     "data": {
      "text/plain": [
       "type\n",
       "actor      245713\n",
       "actress    115505\n",
       "dtype: int64"
      ]
     },
     "execution_count": 140,
     "metadata": {},
     "output_type": "execute_result"
    }
   ],
   "source": [
    "cast[(cast['decade']== 1990)].groupby('type').size()"
   ]
  },
  {
   "cell_type": "markdown",
   "id": "c382a669",
   "metadata": {},
   "source": [
    "There were much less actress roles in the 1950s than there were in the 1990s. Actor roles have increased as well. "
   ]
  },
  {
   "cell_type": "markdown",
   "id": "3c5ad9f2",
   "metadata": {},
   "source": [
    "### 8. How many roles for actors & actresses over time? Output should be a line graph"
   ]
  },
  {
   "cell_type": "code",
   "execution_count": 143,
   "id": "a4401c78",
   "metadata": {},
   "outputs": [
    {
     "data": {
      "text/plain": [
       "year\n",
       "1894        3\n",
       "1900        2\n",
       "1905        1\n",
       "1906       17\n",
       "1907        5\n",
       "        ...  \n",
       "2018    43518\n",
       "2019     1406\n",
       "2020      188\n",
       "2021       34\n",
       "2022       16\n",
       "Name: count, Length: 120, dtype: int64"
      ]
     },
     "execution_count": 143,
     "metadata": {},
     "output_type": "execute_result"
    }
   ],
   "source": [
    "years = cast['year'].value_counts().sort_index()\n",
    "years"
   ]
  },
  {
   "cell_type": "code",
   "execution_count": 142,
   "id": "f75dda16",
   "metadata": {},
   "outputs": [
    {
     "data": {
      "text/plain": [
       "<Axes: xlabel='year'>"
      ]
     },
     "execution_count": 142,
     "metadata": {},
     "output_type": "execute_result"
    },
    {
     "data": {
      "image/png": "[encoded data removed]",
      "text/plain": [
       "<Figure size 640x480 with 1 Axes>"
      ]
     },
     "metadata": {},
     "output_type": "display_data"
    }
   ],
   "source": [
    "years.plot()"
   ]
  },
  {
   "cell_type": "markdown",
   "id": "5e3a04c7",
   "metadata": {},
   "source": [
    "### 9. How many \"leading roles\" were there in the 2000's?"
   ]
  },
  {
   "cell_type": "code",
   "execution_count": 144,
   "id": "01cc5e7f",
   "metadata": {},
   "outputs": [
    {
     "data": {
      "text/plain": [
       "n\n",
       "1.0    23593\n",
       "dtype: int64"
      ]
     },
     "execution_count": 144,
     "metadata": {},
     "output_type": "execute_result"
    }
   ],
   "source": [
    "cast[cast['n'] == 1]\n",
    "year = cast[cast['decade'] == 2000]\n",
    "year[(year['n'] == 1) ].groupby('n').size()"
   ]
  },
  {
   "cell_type": "markdown",
   "id": "a60c91b4",
   "metadata": {},
   "source": [
    "### 10. How many roles received no ranking in the 2000's? 1950's. What conclusions can you draw from these two data points?"
   ]
  },
  {
   "cell_type": "code",
   "execution_count": 145,
   "id": "4b729250",
   "metadata": {},
   "outputs": [
    {
     "data": {
      "text/plain": [
       "decade\n",
       "2000    232037\n",
       "dtype: int64"
      ]
     },
     "execution_count": 145,
     "metadata": {},
     "output_type": "execute_result"
    }
   ],
   "source": [
    "mask = cast['n'].isnull()\n",
    "\n",
    "cast[(cast['decade'] == 2000) & mask].groupby('decade').size()"
   ]
  },
  {
   "cell_type": "code",
   "execution_count": 146,
   "id": "d5fdc7e9",
   "metadata": {},
   "outputs": [
    {
     "data": {
      "text/plain": [
       "decade\n",
       "1950    95406\n",
       "dtype: int64"
      ]
     },
     "execution_count": 146,
     "metadata": {},
     "output_type": "execute_result"
    }
   ],
   "source": [
    "cast[(cast['decade'] == 1950) & mask].groupby('decade').size()"
   ]
  },
  {
   "cell_type": "markdown",
   "id": "4b1d69cf",
   "metadata": {},
   "source": [
    "There were a lot more roles that recieved no ranking in the 2000s than there were in the 1950s. This could be due to a difference in the way movies were made. There may be more extras in recent years than there were in the 1950s. Extras may not recieve a ranking. "
   ]
  },
  {
   "cell_type": "markdown",
   "id": "33d9c249",
   "metadata": {},
   "source": [
    "### 11. Plot the number of films made in each decade"
   ]
  },
  {
   "cell_type": "code",
   "execution_count": 147,
   "id": "3f6c5b5a",
   "metadata": {},
   "outputs": [
    {
     "data": {
      "text/plain": [
       "decade\n",
       "1890          3\n",
       "1900         70\n",
       "1910      43129\n",
       "1920      71938\n",
       "1930     198570\n",
       "1940     210670\n",
       "1950     209890\n",
       "1960     182616\n",
       "1970     202992\n",
       "1980     257683\n",
       "1990     361218\n",
       "2000     676027\n",
       "2010    1027830\n",
       "2020        238\n",
       "Name: title, dtype: int64"
      ]
     },
     "execution_count": 147,
     "metadata": {},
     "output_type": "execute_result"
    }
   ],
   "source": [
    "decade_counts = cast.groupby('decade').count()\n",
    "dec = decade_counts['title']\n",
    "dec"
   ]
  },
  {
   "cell_type": "code",
   "execution_count": 148,
   "id": "5994c24d",
   "metadata": {},
   "outputs": [
    {
     "data": {
      "image/png": "[encoded data removed]",
      "text/plain": [
       "<Figure size 1000x600 with 1 Axes>"
      ]
     },
     "metadata": {},
     "output_type": "display_data"
    }
   ],
   "source": [
    "plt.figure(figsize=(10, 6))\n",
    "plt.ticklabel_format(style='plain')\n",
    "sns.barplot(x=dec.index, y=dec.values, palette=\"Spectral\")\n",
    "plt.xlabel(\"Decade\")\n",
    "plt.ylabel(\"Number of Movies\")\n",
    "plt.title(\"Number of Movies by Decade\")\n",
    "plt.xticks(rotation=45)\n",
    "plt.show()"
   ]
  },
  {
   "cell_type": "markdown",
   "id": "7b8b93e3",
   "metadata": {},
   "source": [
    "### 12. Plot the number of films with a Rustler character over time"
   ]
  },
  {
   "cell_type": "code",
   "execution_count": 149,
   "id": "ed1bce02",
   "metadata": {},
   "outputs": [],
   "source": [
    "rustler = cast[cast['character'].str.contains(\"Rustler\", na=False)]\n",
    "# Group data by year and count the number of films\n",
    "yearly_counts = rustler.groupby('year').size()\n"
   ]
  },
  {
   "cell_type": "code",
   "execution_count": 150,
   "id": "b6f927f9",
   "metadata": {},
   "outputs": [
    {
     "data": {
      "image/png": "[encoded data removed]",
      "text/plain": [
       "<Figure size 1000x600 with 1 Axes>"
      ]
     },
     "metadata": {},
     "output_type": "display_data"
    }
   ],
   "source": [
    "plt.figure(figsize=(10, 6))\n",
    "plt.plot(yearly_counts.index, yearly_counts.values,'bo', linestyle='-')\n",
    "plt.title('Number of Films with a \"Rustler\" Character Over Time')\n",
    "plt.xlabel('Year')\n",
    "plt.ylabel('Number of Films')\n",
    "plt.grid(True, linestyle='--', alpha=0.7)\n",
    "plt.show()"
   ]
  },
  {
   "cell_type": "markdown",
   "id": "1df5a8a7",
   "metadata": {},
   "source": [
    "### 13. What are the top ten character names of all time?"
   ]
  },
  {
   "cell_type": "code",
   "execution_count": 151,
   "id": "fc30c391",
   "metadata": {},
   "outputs": [
    {
     "data": {
      "text/plain": [
       "character\n",
       "Himself        19637\n",
       "Dancer         12019\n",
       "Extra          10848\n",
       "Reporter        7818\n",
       "Doctor          6963\n",
       "Party Guest     6786\n",
       "Student         6631\n",
       "Policeman       6424\n",
       "Bartender       6290\n",
       "Herself         6269\n",
       "Name: count, dtype: int64"
      ]
     },
     "execution_count": 151,
     "metadata": {},
     "output_type": "execute_result"
    }
   ],
   "source": [
    "cast['character'].value_counts().head(10)"
   ]
  },
  {
   "cell_type": "markdown",
   "id": "febd5c97",
   "metadata": {},
   "source": [
    "### 14. Which actor appeared in the most films in the 1990's decade?"
   ]
  },
  {
   "cell_type": "code",
   "execution_count": 152,
   "id": "ed10c4df",
   "metadata": {},
   "outputs": [],
   "source": [
    "ninetys = cast[(cast['decade']== 1990)]\n",
    "actor_counts = ninetys['name'].value_counts()"
   ]
  },
  {
   "cell_type": "code",
   "execution_count": 153,
   "id": "ad4fabf0",
   "metadata": {},
   "outputs": [
    {
     "data": {
      "text/plain": [
       "'Shakti Kapoor'"
      ]
     },
     "execution_count": 153,
     "metadata": {},
     "output_type": "execute_result"
    }
   ],
   "source": [
    "actor_counts.idxmax() "
   ]
  },
  {
   "cell_type": "code",
   "execution_count": 154,
   "id": "79857712",
   "metadata": {},
   "outputs": [
    {
     "data": {
      "text/plain": [
       "143"
      ]
     },
     "execution_count": 154,
     "metadata": {},
     "output_type": "execute_result"
    }
   ],
   "source": [
    "actor_counts.max()"
   ]
  },
  {
   "cell_type": "markdown",
   "id": "b2d57a18",
   "metadata": {},
   "source": [
    "### 15. What are the top 10 roles that start with Science?"
   ]
  },
  {
   "cell_type": "code",
   "execution_count": 155,
   "id": "64b41362",
   "metadata": {},
   "outputs": [],
   "source": [
    "science_roles = cast[cast['character'].str.startswith('Science', na=False)]"
   ]
  },
  {
   "cell_type": "code",
   "execution_count": 156,
   "id": "333288a9",
   "metadata": {},
   "outputs": [
    {
     "data": {
      "text/plain": [
       "character\n",
       "Science Teacher         57\n",
       "Science Fair Student     9\n",
       "Science Student          6\n",
       "Science Fair Judge       6\n",
       "Science Kid              5\n",
       "Science Fair Kid         5\n",
       "Science Reporter         5\n",
       "Science                  4\n",
       "Science Officer          3\n",
       "Science teacher          3\n",
       "Name: count, dtype: int64"
      ]
     },
     "execution_count": 156,
     "metadata": {},
     "output_type": "execute_result"
    }
   ],
   "source": [
    "role_counts = science_roles['character'].value_counts()\n",
    "role_counts.head(10)"
   ]
  },
  {
   "cell_type": "markdown",
   "id": "7e37caf3",
   "metadata": {},
   "source": [
    "### 16. What film has the largest cast"
   ]
  },
  {
   "cell_type": "code",
   "execution_count": 157,
   "id": "1de674fc",
   "metadata": {},
   "outputs": [
    {
     "data": {
      "text/plain": [
       "'Around the World in 80 Days'"
      ]
     },
     "execution_count": 157,
     "metadata": {},
     "output_type": "execute_result"
    }
   ],
   "source": [
    "film_cast = cast.groupby('title')['name'].nunique()\n",
    "film_cast.idxmax()"
   ]
  },
  {
   "cell_type": "code",
   "execution_count": 158,
   "id": "1ad471cd",
   "metadata": {},
   "outputs": [
    {
     "data": {
      "text/plain": [
       "1363"
      ]
     },
     "execution_count": 158,
     "metadata": {},
     "output_type": "execute_result"
    }
   ],
   "source": [
    "film_cast.max()"
   ]
  },
  {
   "cell_type": "markdown",
   "id": "3a1a26ba",
   "metadata": {},
   "source": [
    "### 17. Generate descriptive statistics for cast size. Briefly comment on the results"
   ]
  },
  {
   "cell_type": "code",
   "execution_count": 161,
   "id": "b0592c92",
   "metadata": {},
   "outputs": [
    {
     "data": {
      "text/plain": [
       "count    168250.000000\n",
       "mean         20.116202\n",
       "std          23.608116\n",
       "min           1.000000\n",
       "25%           6.000000\n",
       "50%          13.000000\n",
       "75%          26.000000\n",
       "max        1363.000000\n",
       "Name: name, dtype: float64"
      ]
     },
     "execution_count": 161,
     "metadata": {},
     "output_type": "execute_result"
    }
   ],
   "source": [
    "film_cast.describe()"
   ]
  },
  {
   "cell_type": "markdown",
   "id": "ba0d6d97",
   "metadata": {},
   "source": [
    "The mean cast size is about 24 members, while the maximum cast size is 1363 members. The minimum cast size is 1 person. Most of the cast size's are below 26 members, with the largest cast found above being an outlier. "
   ]
  },
  {
   "cell_type": "markdown",
   "id": "57885f86",
   "metadata": {},
   "source": [
    "### 18. How many films has Natalie Portman been in in each year throughout her career?"
   ]
  },
  {
   "cell_type": "code",
   "execution_count": 160,
   "id": "7c2a2a39",
   "metadata": {},
   "outputs": [
    {
     "data": {
      "text/plain": [
       "41"
      ]
     },
     "execution_count": 160,
     "metadata": {},
     "output_type": "execute_result"
    }
   ],
   "source": [
    "cast[cast['name'] == \"Natalie Portman\"]['title'].count()"
   ]
  },
  {
   "cell_type": "markdown",
   "id": "1bff19c5",
   "metadata": {},
   "source": [
    "### 19. How many films did Natalie Portman appear in each year where where she was either the top star or co-star?"
   ]
  },
  {
   "cell_type": "code",
   "execution_count": 162,
   "id": "e2f4d043",
   "metadata": {},
   "outputs": [
    {
     "data": {
      "text/plain": [
       "year\n",
       "1999    1\n",
       "2000    1\n",
       "2002    1\n",
       "2005    3\n",
       "2006    2\n",
       "2007    1\n",
       "2008    1\n",
       "2009    1\n",
       "2010    2\n",
       "2011    2\n",
       "2013    1\n",
       "2015    2\n",
       "2016    2\n",
       "dtype: int64"
      ]
     },
     "execution_count": 162,
     "metadata": {},
     "output_type": "execute_result"
    }
   ],
   "source": [
    "portman = cast[cast['name'] == \"Natalie Portman\"]\n",
    "portman[(portman['n'] == 1) | (portman['n'] == 2) ].groupby('year').size()"
   ]
  },
  {
   "cell_type": "markdown",
   "id": "8eda704b",
   "metadata": {},
   "source": [
    "### 20. Determine how many roles for actor or actress by decade. Plot the output "
   ]
  },
  {
   "cell_type": "code",
   "execution_count": 163,
   "id": "09ed01a8",
   "metadata": {},
   "outputs": [
    {
     "data": {
      "text/plain": [
       "decade\n",
       "1890         1\n",
       "1900        16\n",
       "1910     15733\n",
       "1920     23826\n",
       "1930     49298\n",
       "1940     50871\n",
       "1950     56331\n",
       "1960     54484\n",
       "1970     60977\n",
       "1980     80619\n",
       "1990    115505\n",
       "2000    235217\n",
       "2010    382288\n",
       "2020       116\n",
       "dtype: int64"
      ]
     },
     "execution_count": 163,
     "metadata": {},
     "output_type": "execute_result"
    }
   ],
   "source": [
    "actress = cast[cast['type'] == \"actress\"].groupby('decade').size()\n",
    "actress"
   ]
  },
  {
   "cell_type": "code",
   "execution_count": 164,
   "id": "42564d3b",
   "metadata": {
    "scrolled": true
   },
   "outputs": [
    {
     "data": {
      "image/png": "[encoded data removed]",
      "text/plain": [
       "<Figure size 1000x600 with 1 Axes>"
      ]
     },
     "metadata": {},
     "output_type": "display_data"
    }
   ],
   "source": [
    "plt.figure(figsize=(10, 6))\n",
    "plt.ticklabel_format(style='plain')\n",
    "sns.barplot(x=actress.index, y=actress.values, palette=\"Spectral\")\n",
    "plt.xlabel(\"Decade\")\n",
    "plt.ylabel(\"Number of Roles for Actresses\")\n",
    "plt.title(\"Number of Roles for Actresses by Decade\")\n",
    "plt.xticks(rotation=45)\n",
    "plt.show()"
   ]
  },
  {
   "cell_type": "markdown",
   "id": "fffe663b",
   "metadata": {},
   "source": [
    "### 21. Determine and comment on the day of the week that movies are released. What is notable about release days and months throughout the year? (Use pd.pivot_table)"
   ]
  },
  {
   "cell_type": "code",
   "execution_count": 165,
   "id": "5d3f6e03",
   "metadata": {},
   "outputs": [
    {
     "data": {
      "text/html": [
       "<div>\n",
       "<style scoped>\n",
       "    .dataframe tbody tr th:only-of-type {\n",
       "        vertical-align: middle;\n",
       "    }\n",
       "\n",
       "    .dataframe tbody tr th {\n",
       "        vertical-align: top;\n",
       "    }\n",
       "\n",
       "    .dataframe thead th {\n",
       "        text-align: right;\n",
       "    }\n",
       "</style>\n",
       "<table border=\"1\" class=\"dataframe\">\n",
       "  <thead>\n",
       "    <tr style=\"text-align: right;\">\n",
       "      <th></th>\n",
       "      <th>title</th>\n",
       "      <th>year</th>\n",
       "      <th>country</th>\n",
       "      <th>date</th>\n",
       "    </tr>\n",
       "  </thead>\n",
       "  <tbody>\n",
       "    <tr>\n",
       "      <th>0</th>\n",
       "      <td>#73, Shaanthi Nivaasa</td>\n",
       "      <td>2007</td>\n",
       "      <td>India</td>\n",
       "      <td>2007-06-15</td>\n",
       "    </tr>\n",
       "    <tr>\n",
       "      <th>1</th>\n",
       "      <td>#BKKY</td>\n",
       "      <td>2016</td>\n",
       "      <td>Cambodia</td>\n",
       "      <td>2017-10-12</td>\n",
       "    </tr>\n",
       "    <tr>\n",
       "      <th>2</th>\n",
       "      <td>#Beings</td>\n",
       "      <td>2015</td>\n",
       "      <td>Romania</td>\n",
       "      <td>2015-01-29</td>\n",
       "    </tr>\n",
       "    <tr>\n",
       "      <th>3</th>\n",
       "      <td>#Captured</td>\n",
       "      <td>2017</td>\n",
       "      <td>USA</td>\n",
       "      <td>2017-09-05</td>\n",
       "    </tr>\n",
       "    <tr>\n",
       "      <th>4</th>\n",
       "      <td>#Ewankosau saranghaeyo</td>\n",
       "      <td>2015</td>\n",
       "      <td>Philippines</td>\n",
       "      <td>2015-01-21</td>\n",
       "    </tr>\n",
       "  </tbody>\n",
       "</table>\n",
       "</div>"
      ],
      "text/plain": [
       "                    title  year      country        date\n",
       "0   #73, Shaanthi Nivaasa  2007        India  2007-06-15\n",
       "1                   #BKKY  2016     Cambodia  2017-10-12\n",
       "2                 #Beings  2015      Romania  2015-01-29\n",
       "3               #Captured  2017          USA  2017-09-05\n",
       "4  #Ewankosau saranghaeyo  2015  Philippines  2015-01-21"
      ]
     },
     "execution_count": 165,
     "metadata": {},
     "output_type": "execute_result"
    }
   ],
   "source": [
    "release.head()"
   ]
  },
  {
   "cell_type": "code",
   "execution_count": 166,
   "id": "46ca9926",
   "metadata": {},
   "outputs": [],
   "source": [
    "release['date']= pd.to_datetime(release['date'])"
   ]
  },
  {
   "cell_type": "code",
   "execution_count": 167,
   "id": "0efa6c5d",
   "metadata": {},
   "outputs": [
    {
     "data": {
      "text/plain": [
       "day\n",
       "Friday       163172\n",
       "Thursday     125745\n",
       "Wednesday     53439\n",
       "Monday        37209\n",
       "Saturday      31332\n",
       "Tuesday       16762\n",
       "Sunday        15823\n",
       "Name: count, dtype: int64"
      ]
     },
     "execution_count": 167,
     "metadata": {},
     "output_type": "execute_result"
    }
   ],
   "source": [
    "release['day']=release['date'].dt.day_name()\n",
    "release['day'].value_counts()"
   ]
  },
  {
   "cell_type": "code",
   "execution_count": 168,
   "id": "835e0b29",
   "metadata": {},
   "outputs": [
    {
     "data": {
      "text/plain": [
       "month\n",
       "March        40257\n",
       "October      40204\n",
       "January      39412\n",
       "December     39093\n",
       "November     38200\n",
       "September    37750\n",
       "April        37674\n",
       "February     36307\n",
       "May          35449\n",
       "August       35011\n",
       "June         32704\n",
       "July         31421\n",
       "Name: count, dtype: int64"
      ]
     },
     "execution_count": 168,
     "metadata": {},
     "output_type": "execute_result"
    }
   ],
   "source": [
    "release['month']=release['date'].dt.month_name()\n",
    "release['month'].value_counts()"
   ]
  },
  {
   "cell_type": "code",
   "execution_count": 180,
   "id": "42ca681f",
   "metadata": {},
   "outputs": [
    {
     "data": {
      "text/html": [
       "<div>\n",
       "<style scoped>\n",
       "    .dataframe tbody tr th:only-of-type {\n",
       "        vertical-align: middle;\n",
       "    }\n",
       "\n",
       "    .dataframe tbody tr th {\n",
       "        vertical-align: top;\n",
       "    }\n",
       "\n",
       "    .dataframe thead th {\n",
       "        text-align: right;\n",
       "    }\n",
       "</style>\n",
       "<table border=\"1\" class=\"dataframe\">\n",
       "  <thead>\n",
       "    <tr style=\"text-align: right;\">\n",
       "      <th>day</th>\n",
       "      <th>Friday</th>\n",
       "      <th>Monday</th>\n",
       "      <th>Saturday</th>\n",
       "      <th>Sunday</th>\n",
       "      <th>Thursday</th>\n",
       "      <th>Tuesday</th>\n",
       "      <th>Wednesday</th>\n",
       "    </tr>\n",
       "    <tr>\n",
       "      <th>month</th>\n",
       "      <th></th>\n",
       "      <th></th>\n",
       "      <th></th>\n",
       "      <th></th>\n",
       "      <th></th>\n",
       "      <th></th>\n",
       "      <th></th>\n",
       "    </tr>\n",
       "  </thead>\n",
       "  <tbody>\n",
       "    <tr>\n",
       "      <th>April</th>\n",
       "      <td>13559</td>\n",
       "      <td>3168</td>\n",
       "      <td>2868</td>\n",
       "      <td>1358</td>\n",
       "      <td>10625</td>\n",
       "      <td>1446</td>\n",
       "      <td>4650</td>\n",
       "    </tr>\n",
       "    <tr>\n",
       "      <th>August</th>\n",
       "      <td>13430</td>\n",
       "      <td>2844</td>\n",
       "      <td>2277</td>\n",
       "      <td>1138</td>\n",
       "      <td>9931</td>\n",
       "      <td>1121</td>\n",
       "      <td>4270</td>\n",
       "    </tr>\n",
       "    <tr>\n",
       "      <th>December</th>\n",
       "      <td>13018</td>\n",
       "      <td>3240</td>\n",
       "      <td>3357</td>\n",
       "      <td>1813</td>\n",
       "      <td>10665</td>\n",
       "      <td>1903</td>\n",
       "      <td>5097</td>\n",
       "    </tr>\n",
       "    <tr>\n",
       "      <th>February</th>\n",
       "      <td>13833</td>\n",
       "      <td>3138</td>\n",
       "      <td>2395</td>\n",
       "      <td>1277</td>\n",
       "      <td>10356</td>\n",
       "      <td>1190</td>\n",
       "      <td>4118</td>\n",
       "    </tr>\n",
       "    <tr>\n",
       "      <th>January</th>\n",
       "      <td>13734</td>\n",
       "      <td>3699</td>\n",
       "      <td>2925</td>\n",
       "      <td>1822</td>\n",
       "      <td>10746</td>\n",
       "      <td>1823</td>\n",
       "      <td>4663</td>\n",
       "    </tr>\n",
       "    <tr>\n",
       "      <th>July</th>\n",
       "      <td>11635</td>\n",
       "      <td>2267</td>\n",
       "      <td>2291</td>\n",
       "      <td>894</td>\n",
       "      <td>8947</td>\n",
       "      <td>1144</td>\n",
       "      <td>4243</td>\n",
       "    </tr>\n",
       "    <tr>\n",
       "      <th>June</th>\n",
       "      <td>11997</td>\n",
       "      <td>2337</td>\n",
       "      <td>2409</td>\n",
       "      <td>1031</td>\n",
       "      <td>9469</td>\n",
       "      <td>1179</td>\n",
       "      <td>4282</td>\n",
       "    </tr>\n",
       "    <tr>\n",
       "      <th>March</th>\n",
       "      <td>15268</td>\n",
       "      <td>3383</td>\n",
       "      <td>2742</td>\n",
       "      <td>1228</td>\n",
       "      <td>11844</td>\n",
       "      <td>1313</td>\n",
       "      <td>4479</td>\n",
       "    </tr>\n",
       "    <tr>\n",
       "      <th>May</th>\n",
       "      <td>13198</td>\n",
       "      <td>3050</td>\n",
       "      <td>2270</td>\n",
       "      <td>1165</td>\n",
       "      <td>10100</td>\n",
       "      <td>1377</td>\n",
       "      <td>4289</td>\n",
       "    </tr>\n",
       "    <tr>\n",
       "      <th>November</th>\n",
       "      <td>14084</td>\n",
       "      <td>3371</td>\n",
       "      <td>2547</td>\n",
       "      <td>1342</td>\n",
       "      <td>10859</td>\n",
       "      <td>1415</td>\n",
       "      <td>4582</td>\n",
       "    </tr>\n",
       "    <tr>\n",
       "      <th>October</th>\n",
       "      <td>14893</td>\n",
       "      <td>3551</td>\n",
       "      <td>2700</td>\n",
       "      <td>1423</td>\n",
       "      <td>11490</td>\n",
       "      <td>1542</td>\n",
       "      <td>4605</td>\n",
       "    </tr>\n",
       "    <tr>\n",
       "      <th>September</th>\n",
       "      <td>14523</td>\n",
       "      <td>3161</td>\n",
       "      <td>2551</td>\n",
       "      <td>1332</td>\n",
       "      <td>10713</td>\n",
       "      <td>1309</td>\n",
       "      <td>4161</td>\n",
       "    </tr>\n",
       "  </tbody>\n",
       "</table>\n",
       "</div>"
      ],
      "text/plain": [
       "day        Friday  Monday  Saturday  Sunday  Thursday  Tuesday  Wednesday\n",
       "month                                                                    \n",
       "April       13559    3168      2868    1358     10625     1446       4650\n",
       "August      13430    2844      2277    1138      9931     1121       4270\n",
       "December    13018    3240      3357    1813     10665     1903       5097\n",
       "February    13833    3138      2395    1277     10356     1190       4118\n",
       "January     13734    3699      2925    1822     10746     1823       4663\n",
       "July        11635    2267      2291     894      8947     1144       4243\n",
       "June        11997    2337      2409    1031      9469     1179       4282\n",
       "March       15268    3383      2742    1228     11844     1313       4479\n",
       "May         13198    3050      2270    1165     10100     1377       4289\n",
       "November    14084    3371      2547    1342     10859     1415       4582\n",
       "October     14893    3551      2700    1423     11490     1542       4605\n",
       "September   14523    3161      2551    1332     10713     1309       4161"
      ]
     },
     "execution_count": 180,
     "metadata": {},
     "output_type": "execute_result"
    }
   ],
   "source": [
    "pivot_table = pd.pivot_table(release, index = 'month', columns = 'day', aggfunc ='size', fill_value=0)\n",
    "pivot_table"
   ]
  },
  {
   "cell_type": "markdown",
   "id": "9f611229",
   "metadata": {},
   "source": [
    "It seems like Fridays are the most popular days to release a movie. This makes sense as everybody is going into the weekend, they may have the time to see the movie. The most popular month to release a movie in is March, while the least popular is July. The fact that not as many movies are released in July makes sense to me because most people are enjoying the outdoors. "
   ]
  },
  {
   "cell_type": "markdown",
   "id": "88b4b805",
   "metadata": {},
   "source": [
    "### 22. Can you plot the pivot table? Is the output \"correct\"? Can you fix it?"
   ]
  },
  {
   "cell_type": "code",
   "execution_count": 182,
   "id": "07152c8b",
   "metadata": {},
   "outputs": [
    {
     "data": {
      "text/plain": [
       "<Axes: xlabel='month'>"
      ]
     },
     "execution_count": 182,
     "metadata": {},
     "output_type": "execute_result"
    },
    {
     "data": {
      "image/png": "[encoded data removed]",
      "text/plain": [
       "<Figure size 640x480 with 1 Axes>"
      ]
     },
     "metadata": {},
     "output_type": "display_data"
    }
   ],
   "source": [
    "pivot_table.plot.bar()"
   ]
  },
  {
   "cell_type": "markdown",
   "id": "602800fa",
   "metadata": {},
   "source": [
    "I adapted the code above to get this by setting the index to month and columns to day. Before, I had both month and day in the index. Although it doesn't look pretty, I think this does look right. Based on the table above, you can see that Friday is the most popular day to release a movie. Based on the graph, we can see this as well. I think this could look even better if it was more spread out, or if it was a stacked bar chart. "
   ]
  },
  {
   "cell_type": "markdown",
   "id": "19fc8bc4",
   "metadata": {},
   "source": [
    "### 23. What films did actors in Star Wars go on to appear in? "
   ]
  },
  {
   "cell_type": "code",
   "execution_count": 183,
   "id": "35e5f456",
   "metadata": {},
   "outputs": [],
   "source": [
    "starwars = cast[cast['title'] == 'Star Wars']['name'].unique()\n",
    "\n",
    "other_films = cast[cast['name'].isin(starwars)]\n",
    "\n",
    "films_after_starwars = other_films[~other_films['title'].isin(['Star Wars'])]['title'].unique()\n"
   ]
  },
  {
   "cell_type": "code",
   "execution_count": 184,
   "id": "2de76e6c",
   "metadata": {},
   "outputs": [
    {
     "data": {
      "text/plain": [
       "array(['Every Little Crook and Nanny', 'Linda Lovelace for President',\n",
       "       'Rogue One', 'Smorgasbord', 'The Roommates', 'The Sting II',\n",
       "       'The Student Body', 'The Zebra Force',\n",
       "       \"Adventures of a Plumber's Mate\", 'Adventures of a Private Eye',\n",
       "       'Adventures of a Taxi Driver', 'Alfie Darling', 'Big Zapper',\n",
       "       'Eskimo Nell', 'Hennessy', 'Licensed to Love and Kill',\n",
       "       'The Deadly Females', 'The Fast Kill',\n",
       "       'The Night My Number Came Up', 'The Swordsman',\n",
       "       'Track the Man Down', '24 Hour Party People', 'Amadeus',\n",
       "       'Flash Gordon', 'Labyrinth', 'Mona Lisa', 'Sleeping Beauty',\n",
       "       'Star Wars: Episode I - The Phantom Menace',\n",
       "       'Star Wars: Episode II - Attack of the Clones',\n",
       "       'Star Wars: Episode III - Revenge of the Sith',\n",
       "       'Star Wars: Episode V - The Empire Strikes Back',\n",
       "       'Star Wars: Episode VI - Return of the Jedi', 'The Elephant Man',\n",
       "       'The King and I', 'Time Bandits', 'U.F.O.', 'Willow',\n",
       "       'Wombling Free', 'American Graffiti', 'Bizarre Devices',\n",
       "       \"Bon Voyage, Charlie Brown (and Don't Come Back!!)\", 'Bullitt',\n",
       "       'Chu Chu and the Philly Flash', 'Getting Even with Dad',\n",
       "       'Mrs. Doubtfire', 'One Is a Lonely Number', 'Out', 'Stand by Me',\n",
       "       'The Grizzly & the Treasure', 'The Right Stuff',\n",
       "       'The Second Coming of Suzanne', 'THX 1138', 'To Be or Not to Be',\n",
       "       'Tucker: The Man and His Dream', 'Bad Blood',\n",
       "       'Some of My Best Friends Are', 'The Second Victory',\n",
       "       'A King in New York', 'Bomba u 10 i 10', 'Calling Dr. Gillespie',\n",
       "       'Chaplin', 'Give Us This Day', 'H.M. Pulham, Esq.',\n",
       "       'Hello, Annapolis', 'I Wanted Wings', 'If You Knew Susie',\n",
       "       'John Paul Jones', \"Johnny O'Clock\", 'Land Raiders',\n",
       "       \"Miss Beatty's Children\", 'Moonrise', 'Obsession',\n",
       "       'Ooh... You Are Awful', 'Operation Cross Eagles', 'Over 21',\n",
       "       'Pierre of the Plains', 'Scalawag', 'Silver Bears', 'State Fair',\n",
       "       'Superman', 'The Adding Machine', 'The Bedford Incident',\n",
       "       'The Boy Cried Murder', 'The Camp on Blood Island',\n",
       "       'The Counterfeit Traitor', 'The Green Scarf',\n",
       "       'The Impatient Years', 'The Killers', 'The Luck of the Irish',\n",
       "       'The Pink Panther Strikes Again', 'The Romantic Englishwoman',\n",
       "       'Togetherness', 'Tropic of Cancer', \"Twilight's Last Gleaming\",\n",
       "       'Valdez Is Coming', 'Without Reservations', 'A Hitch in Time',\n",
       "       'Britannia Hospital', \"Let's Get Laid\", 'A Kid for Two Farthings',\n",
       "       'Albert, R.N.', 'All Coppers Are...', 'Aunt Clara',\n",
       "       'Beautiful Stranger', 'Captain Boycott', 'Children Galore',\n",
       "       'Dunkirk', 'Face in the Night', 'Floods of Fear',\n",
       "       'Guns in the Heather', 'Happy Ever After', 'Hungry Hill',\n",
       "       \"I Can't... I Can't\", 'I See a Dark Stranger',\n",
       "       \"It's Great to Be Young!\", 'Jackpot', 'Johnny Nobody',\n",
       "       'Lady Godiva Rides Again', 'Locker 69', 'Mutiny on the Bounty',\n",
       "       'Never Mind the Quality: Feel the Width', 'Odd Man Out',\n",
       "       'One Way Out', 'Reach for the Sky', 'Rooney', 'Seven Waves Away',\n",
       "       'Sinful Davey', 'Stolen Assignment', 'The Admirable Crichton',\n",
       "       'The Bridal Path', 'The Bulldog Breed', 'The Cracksman',\n",
       "       'The Divided Heart', 'The Extra Day', 'The Gentle Gunman',\n",
       "       'The MacKintosh Man', 'The Man in the Sky', 'The Mark',\n",
       "       'The Pot Carriers', 'The Punch and Judy Man', 'The Running Man',\n",
       "       'The Scapegoat', 'The Sea Shall Not Have Them', 'The Shakedown',\n",
       "       'The Square Ring', 'The Thief and the Cobbler',\n",
       "       'These Dangerous Years', 'Time, Gentlemen, Please!',\n",
       "       'Trouble in the Glen', \"Where's Jack?\", 'Wonderful Things!',\n",
       "       'Zarak', 'Instant Death', 'Scrapper', 'A View to a Kill',\n",
       "       'Burning an Illusion', 'Carry on Cowboy', 'Gentry',\n",
       "       'Moon Zero Two', 'Morgan: A Suitable Case for Treatment',\n",
       "       'The Holcroft Covenant', \"The Wildcats of St. Trinian's\",\n",
       "       'A Chump at Oxford', 'A Touch of the Sun', 'Alexander the Great',\n",
       "       'Arabian Adventure', 'Asalto al casino', \"At the Earth's Core\",\n",
       "       'Biggles', 'Cash on Demand', 'Cone of Silence',\n",
       "       \"Daleks' Invasion Earth 2150 A.D.\", 'Die Standarte',\n",
       "       'Dr. Who and the Daleks', \"Fury at Smugglers' Bay\", 'Hamlet',\n",
       "       'Laddie', 'Lolita', 'Magic Fire', 'Moulin Rouge', 'One More Time',\n",
       "       'Shatter', 'She', 'Some May Live', 'Son of Hitler', 'Suspect',\n",
       "       'Sword of Sherwood Forest',\n",
       "       'Sword of the Valiant: The Legend of Sir Gawain and the Green Knight',\n",
       "       'The Black Knight', 'The End of the Affair', 'The Hellfire Club',\n",
       "       'The Howards of Virginia', 'The Man in the Iron Mask',\n",
       "       'The Man Who Finally Died', 'The Naked Edge', 'They Dare Not Love',\n",
       "       'Time Without Pity', 'Top Secret!', 'Trial by Combat',\n",
       "       'Vigil in the Night', 'Violent Playground', 'Women in War',\n",
       "       'Bruges-La-Morte', 'Ralph Breaks the Internet: Wreck-It Ralph 2',\n",
       "       'Star Wars: Episode VII - The Force Awakens',\n",
       "       'Star Wars: The Clone Wars', 'The LEGO Movie',\n",
       "       'The Lord of the Rings', 'Candleshoe', 'Crossroads to Crime',\n",
       "       'Highlander', 'Ik ben Joep Meloen', 'Nate and Hayes',\n",
       "       'Raiders of the Lost Ark', 'Superman IV: The Quest for Peace',\n",
       "       'The Dam Busters', 'The Face of Fu Manchu', 'The Pleasure Girls',\n",
       "       'Victor Victoria', '101 Dalmatians', 'A Challenge for Robin Hood',\n",
       "       'A Nightingale Sang in Berkeley Square', 'Agatha',\n",
       "       'Anne of the Thousand Days', 'Attack on the Iron Coast',\n",
       "       'Battle of Britain', 'Billion Dollar Brain',\n",
       "       'Birth of the Beatles', 'Bless This House', 'Brannigan',\n",
       "       'Breaking Glass', 'Carry on Abroad', 'Carry on Dick',\n",
       "       'Carry on Henry', 'Carry On... Follow That Camel',\n",
       "       'Carry On... Up the Khyber', 'Chitty Chitty Bang Bang', 'Cromwell',\n",
       "       'Dance with a Stranger', 'Diana & Me', 'Empire State',\n",
       "       'Entrapment', 'Evita', 'FairyTale: A True Story',\n",
       "       'Fiddler on the Roof', 'First Knight', 'Force 10 from Navarone',\n",
       "       'Fords on Water', 'Frenzy', 'Go for a Take', 'Hawks',\n",
       "       'History of the World: Part I', 'Holiday on the Buses',\n",
       "       'Hostile Witness', 'Husbands', 'Inadmissible Evidence',\n",
       "       'Incognito', 'Lisztomania', 'Loch Ness', 'McVicar',\n",
       "       'Mission: Impossible', \"Murphy's War\", 'Mutiny on the Buses',\n",
       "       'Nobody Runs Forever', 'Oliver!', 'Otley', 'Percy',\n",
       "       'Pink Floyd: The Wall', 'Plenty', 'Pope Joan', 'Quadrophenia',\n",
       "       'Ragtime', 'Reds', 'Salt and Pepper', 'Savage Messiah',\n",
       "       'Say Hello to Yesterday', 'Soft Beds, Hard Battles', 'Star!',\n",
       "       'Steptoe and Son', 'Superman II', 'Sweeney 2', 'Sweeney!',\n",
       "       'The Assassination Bureau', 'The Bitch',\n",
       "       'The Bliss of Mrs. Blossom', 'The Charge of the Light Brigade',\n",
       "       'The Eagle Has Landed', 'The Jackal', 'The Last Valley',\n",
       "       'The Likely Lads', 'The Long Good Friday', 'The Magnificent Two',\n",
       "       'The Man Who Knew Too Little', 'The Music Lovers',\n",
       "       'The Pied Piper', 'The Revolutionary',\n",
       "       'The Seven-Per-Cent Solution', 'The Tamarind Seed',\n",
       "       'The Thirty-Nine Steps', 'The Vengeance of She', 'Three Sisters',\n",
       "       'True Blue', 'Valentino', 'Voyage of the Damned',\n",
       "       'When Eight Bells Toll', 'Where Eagles Dare', 'Where Is Parsifal?',\n",
       "       'Who Dares Wins', 'Wilde', 'Yanks', '42', 'A Time for Killing',\n",
       "       'Air Force One', 'Anchorman 2: The Legend Continues',\n",
       "       'Apocalypse Now', 'Blade Runner', 'Blade Runner 2049',\n",
       "       'Clear and Present Danger', 'Cowboys & Aliens', 'Crossing Over',\n",
       "       'Dead Heat on a Merry-Go-Round', \"Ender's Game\",\n",
       "       'Extraordinary Measures', 'Firewall', 'Frantic',\n",
       "       'Getting Straight', 'Hanover Street', 'Heroes',\n",
       "       'Hollywood Homicide',\n",
       "       'Indiana Jones and the Kingdom of the Crystal Skull',\n",
       "       'Indiana Jones and the Last Crusade',\n",
       "       'Indiana Jones and the Temple of Doom', 'Jimmy Hollywood',\n",
       "       'Journey to Shiloh', 'K-19: The Widowmaker', 'Luv',\n",
       "       'More American Graffiti', 'Morning Glory', 'Paranoia',\n",
       "       'Patriot Games', 'Presumed Innocent', 'Random Hearts',\n",
       "       'Regarding Henry', 'Sabrina', 'Six Days Seven Nights',\n",
       "       'The Age of Adaline', 'The Conversation', \"The Devil's Own\",\n",
       "       'The Expendables 3', 'The Frisco Kid', 'The Fugitive',\n",
       "       'The Mosquito Coast', 'Untitled Indiana Jones Project', 'Witness',\n",
       "       'Working Girl', 'Zabriskie Point', 'Broken (IV)', 'Dorian Gray',\n",
       "       'Hotel Splendide', 'Pan', 'Summer Holiday', 'Ali G Indahouse',\n",
       "       'Fred Claus', 'Funny Bones',\n",
       "       'Harry Potter and the Deathly Hallows: Part 2',\n",
       "       'Harry Potter and the Half-Blood Prince',\n",
       "       'Harry Potter and the Order of the Phoenix',\n",
       "       \"Harry Potter and the Sorcerer's Stone\", 'Mirrormask',\n",
       "       'Mrs Henderson Presents', 'Willy Wonka & the Chocolate Factory',\n",
       "       'The Love Child', 'A Handful of Dust', 'A Majority of One',\n",
       "       'A Passage to India', 'A Run for Your Money', 'Barnacle Bill',\n",
       "       'Doctor Zhivago', 'Evensong', 'Father Brown',\n",
       "       'Fratello sole, sorella luna', 'Great Expectations',\n",
       "       'H.M.S. Defiant', 'Hitler: The Last Ten Days', 'Hotel Paradiso',\n",
       "       'Kafka', 'Kind Hearts and Coronets', 'Last Holiday',\n",
       "       'Lawrence of Arabia', 'Little Dorrit', 'Lovesick', 'Malta Story',\n",
       "       'Murder by Death', 'Oliver Twist', 'Our Man in Havana',\n",
       "       'Raise the Titanic', 'Scrooge',\n",
       "       'Situation Hopeless... But Not Serious',\n",
       "       'The Bridge on the River Kwai', \"The Captain's Paradise\",\n",
       "       'The Card', 'The Comedians', 'The Fall of the Roman Empire',\n",
       "       'The Geisha Boy', \"The Horse's Mouth\", 'The Ladykillers',\n",
       "       'The Lavender Hill Mob', 'The Man in the White Suit',\n",
       "       'The Mudlark', 'The Prisoner', 'The Quiller Memorandum',\n",
       "       'The Swan', 'To Paris with Love', 'Tunes of Glory',\n",
       "       'A Bridge Too Far', 'Almost Heaven', 'Antony and Cleopatra',\n",
       "       'Balto', 'Batman', 'Born to Ride',\n",
       "       'Charlie and the Chocolate Factory', 'Chasing Liberty',\n",
       "       'Country of My Skull', 'Cry Freedom', 'Erased', 'Fade to Black',\n",
       "       'Finding Rin Tin Tin', 'Is Anybody There?', 'Malice in Wonderland',\n",
       "       'Me and Orson Welles', 'Monsters of the Id', 'Murder Story',\n",
       "       'Ninja', 'Nowhere to Hide', 'One Plus One', 'RED 2',\n",
       "       'Rolling Vengeance', 'Rupan sansei', 'Some Kind of Hero',\n",
       "       'Spy Game', 'Taking Sides', 'The Fourth Angel', 'The Jacket',\n",
       "       'The Message', 'The Spy Who Loved Me', 'The Walker',\n",
       "       'The War of the Starfighters', 'Venus Senki', 'Yapian zhanzheng',\n",
       "       'Zwartboek', 'Back to the Sea', 'Batman: Mask of the Phantasm',\n",
       "       'Batman: The Killing Joke', 'Brigsby Bear', 'Bunyan and Babe',\n",
       "       'Con Man', 'Corvette Summer', 'Guyver', 'Hamilton',\n",
       "       'Howard Lovecraft & the Undersea Kingdom',\n",
       "       'Jay and Silent Bob Strike Back', 'Kaze no tani no Naushika',\n",
       "       'Kingsman: The Secret Service', 'La chute des aigles', 'Laserhawk',\n",
       "       'Quantum Quest: A Cassini Space Odyssey', 'Reeseville',\n",
       "       'Repetition (II)', 'Robotech: The Shadow Chronicles',\n",
       "       'Silk Degrees', 'Sinbad: Beyond the Veil of Mists', 'Slipstream',\n",
       "       'Star Wars: Episode IX', 'Sushi Girl', 'Terra',\n",
       "       'Thank You, Good Night', 'The Big Red One',\n",
       "       'The Night the Lights Went Out in Georgia', 'The Raffle',\n",
       "       'Thru the Moebius Strip', 'Time Runner', 'Virtually Heroes',\n",
       "       'Walking Across Egypt', 'Wing Commander', 'Wizards',\n",
       "       \"Wolf Tracer's Dinosaur Island\", 'Octopussy',\n",
       "       \"On Her Majesty's Secret Service\", 'See No Evil',\n",
       "       'A Countess from Hong Kong', 'Bullshot', 'Carry on Matron',\n",
       "       'Morons from Outer Space', 'One of Our Dinosaurs Is Missing',\n",
       "       'Operation Crossbow', 'Squeeze Play', 'The Dirty Dozen',\n",
       "       'The Living Daylights', 'The Night of the Generals',\n",
       "       'Young Winston', \"A Midsummer Night's Dream\", 'As You Like It',\n",
       "       'Blanc de Chine', 'Brazil', 'Callan', 'Carry on Columbus',\n",
       "       \"How's Business\", 'No Escape', 'Preaching to the Perverted',\n",
       "       'Tank Malling', 'The Adventures of Baron Munchausen',\n",
       "       'The Big Sleep', 'The Fool', 'The Prince and the Pauper',\n",
       "       'The Trial', 'The Wind in the Willows', 'White Angel',\n",
       "       '633 Squadron', 'Heavens Above!', 'Hell Boats',\n",
       "       \"Mrs. Brown, You've Got a Lovely Daughter\", 'Nothing But the Best',\n",
       "       'Puppet on a Chain', 'Quest for Love', 'The Alphabet Murders',\n",
       "       'When Dinosaurs Ruled the Earth', 'Blue Ice', 'Dot.Kill',\n",
       "       'Enemy Mine', 'Half Moon Street', 'Safari 3000',\n",
       "       'The Black Windmill', \"The Film-Maker's Son\",\n",
       "       'A River Runs Through It', 'Bad Timing',\n",
       "       'Colour Me Kubrick: A True...ish Story', 'Crusoe',\n",
       "       'Curse of the Pink Panther', 'Dear Wendy',\n",
       "       'Die unendliche Geschichte III: Rettung aus Phantasien',\n",
       "       'Dreamchild', 'Gospa', 'Hardware', 'Haunted Honeymoon',\n",
       "       'Hear My Song', 'Hussy', 'Something to Believe In', 'Sphinx',\n",
       "       'The Cement Garden', 'The Lady Vanishes', 'The Miracle Maker',\n",
       "       'The Omega Code', 'The Pope Must Die',\n",
       "       'This World, Then the Fireworks', 'Town & Country',\n",
       "       'Trail of the Pink Panther', 'Water', 'White Nights', 'Zina',\n",
       "       'Murder Most Foul', 'On the Game', 'The Breaking Point',\n",
       "       'The Passionate Stranger', 'Whirlpool', 'The Lawful Truth',\n",
       "       'A Family Thing', \"A Mime's Life\", 'A Piece of the Action',\n",
       "       'Allan Quatermain and the Lost City of Gold', 'Best of the Best',\n",
       "       'City Limits', 'Claudine', 'Clean Slate', 'Click',\n",
       "       'Coming to America', 'Conan the Barbarian', 'Convicts',\n",
       "       'Cry, the Beloved Country', 'Deadly Hero',\n",
       "       'Dr. Strangelove or: How I Learned to Stop Worrying and Love the Bomb',\n",
       "       'Dreamrider', 'Driving Miss Daisy', 'End of the Road',\n",
       "       'Excessive Force', 'Field of Dreams', \"Finder's Fee\",\n",
       "       'Freddie as F.R.O.7.', 'Gang Related', 'Gardens of Stone',\n",
       "       'Gimme Shelter', 'Good Luck', 'Jack and the Beanstalk',\n",
       "       'Jefferson in Paris', 'Judge Dredd', 'Matewan', 'My Little Girl',\n",
       "       'Naked Gun 33 1/3: The Final Insult', 'On the Q.T.',\n",
       "       'Pinocchio and the Emperor of the Night', 'Primary Colors',\n",
       "       'Ramayana: The Legend of Prince Rama', 'Robots', 'Scary Movie 4',\n",
       "       'Scorchers', 'Sneakers', 'Sommersby', 'Soul Man', 'Swashbuckler',\n",
       "       'The Angriest Man in Brooklyn', 'The Annihilation of Fish',\n",
       "       'The Benchwarmers',\n",
       "       'The Bingo Long Traveling All-Stars & Motor Kings',\n",
       "       'The Bushido Blade', 'The Great White Hope', 'The Greatest',\n",
       "       'The Hunt for Red October', 'The Last Remake of Beau Geste',\n",
       "       'The Lion King', 'The Man', 'The Meteor Man', 'The River Niger',\n",
       "       'The Sandlot', 'Three Fugitives', 'True Identity',\n",
       "       'Undercover Angel', 'Warning Shot', 'Welcome Home, Roscoe Jenkins',\n",
       "       '1871', 'Elemental Storage', 'For Your Eyes Only', 'Hotet',\n",
       "       'King David', 'The Killing Edge', 'The Spaceman and King Arthur',\n",
       "       'Local Hero', 'Perfect Sense', 'Providence', 'The Chain',\n",
       "       'The Machine', 'The Ride (II)', 'The Wee Man', \"Blind Man's Bluff\",\n",
       "       'Rollerball', 'Silver Dream Racer', 'Stardust',\n",
       "       'The Berlin Conspiracy', 'The Music Machine',\n",
       "       'The People That Time Forgot', 'Who Framed Roger Rabbit',\n",
       "       'A Prayer for the Dying', 'Absolute Beginners', 'Castaway',\n",
       "       'Death Wish 3', 'Defence of the Realm', 'Gandhi',\n",
       "       'Give My Regards to Broad Street', 'GoldenEye',\n",
       "       'Greystoke: The Legend of Tarzan, Lord of the Apes', 'Krull',\n",
       "       'Personal Services', 'Richard III', 'Supergirl', 'Superman III',\n",
       "       'Tabloid', 'The Lords of Discipline', \"The Mirror Crack'd\",\n",
       "       'The Missionary', \"The Razor's Edge\", 'The Return of the Soldier',\n",
       "       'The Tall Guy', 'The Young Visiters', 'Yentl', 'Z-Listers',\n",
       "       'Amen.', 'Atlantic City, USA', 'Bedroom Eyes', 'Best Revenge',\n",
       "       'Captain Phillips', 'Dirty Tricks', 'Enigma', 'Eyes Wide Shut',\n",
       "       'Gross Anatomy', 'Honor Bound', 'If You Could See What I Hear',\n",
       "       'Nothing Personal', 'Operation Delta Force 4: Deep Fault',\n",
       "       'Outland', 'Rhythm & Blues', 'Spies Inc.', 'The 51st State',\n",
       "       'The Adventures of Bob & Doug McKenzie: Strange Brew',\n",
       "       'The Black Dahlia', 'The Krays', 'A Night to Remember',\n",
       "       'Carry on Camping', 'Carry on Girls',\n",
       "       \"Carry On... Don't Lose Your Head\", 'Catch Us If You Can',\n",
       "       \"Don't Raise the Bridge, Lower the River\", 'Dragonslayer',\n",
       "       'From Russia with Love', \"Gideon's Day\", 'The Fast Lady',\n",
       "       'The Frightened City', 'The Lyons in Paris',\n",
       "       'The Password Is Courage', 'The Sheriff of Fractured Jaw',\n",
       "       'The Wrong Box', 'Two Way Stretch', 'Wicked as They Come',\n",
       "       'Fanboys', 'Sinbad and the Eye of the Tiger',\n",
       "       'Yesterday Was a Lie', 'Comrades', 'Depth Charge',\n",
       "       'Eye of the Needle', 'Geordie', 'I Believe in You',\n",
       "       'The House in the Square', 'The Kidnappers',\n",
       "       'The Peregrine Hunters', 'The Private Life of Sherlock Holmes',\n",
       "       'Escape from Safehaven', 'Mob Queen', 'Nemo', \"Nobody's Fool\",\n",
       "       'A Clockwork Orange', 'Black Snake', 'Casino Royale',\n",
       "       'Col cuore in gola', 'Confessions of a Pop Performer', 'Crossplot',\n",
       "       'Hammerhead', 'Jabberwocky', \"Open Mic'rs\", \"Saving 'Star Wars'\",\n",
       "       'The Best of Benny Hill', 'The Kindness of Strangers',\n",
       "       'Up Pompeii', 'Up the Chastity Belt', 'White Cargo',\n",
       "       'The Dark Crystal', 'A Dangerous Age',\n",
       "       \"A Kid in King Arthur's Court\", 'A Kiss Before Dying',\n",
       "       'Alien Autopsy', 'Batman Begins', 'Company Business',\n",
       "       'Diamonds Are Forever', 'Flaming Frontier', 'Julia',\n",
       "       'La morte viene dallo spazio', 'Live and Let Die', 'Lovelorn',\n",
       "       'Mee-Shee: The Water Giant', 'Nasty Habits',\n",
       "       'One of the Hollywood Ten', 'Out of Africa',\n",
       "       'Piccolo grande amore', 'Priest of Love', 'S*P*Y*S', 'Scorpio',\n",
       "       'Space Truckers', \"The 'Human' Factor\", 'The Dogs of War',\n",
       "       'The Lonely Lady', 'Thunderbird 6', 'Thunderbirds Are GO',\n",
       "       'Warlords of Atlantis', 'Whoops Apocalypse', 'Year of the Comet',\n",
       "       'You Only Live Twice', 'Blind Date', \"Dad's Army\", 'Submarine X-1',\n",
       "       'The Games', 'The One That Got Away', 'The Victors', 'Clockwise',\n",
       "       'The Glitterball', 'The Ruling Class', 'The Wild Geese', 'Twinky',\n",
       "       'Villain', 'Ascendancy', 'Chariots of Fire', \"Doll's Eye\",\n",
       "       'Let Him Have It', 'Madame Sousatzka', 'Rosie Dixon - Night Nurse',\n",
       "       'The Innocent', 'The Object of Beauty', 'Bush Christmas',\n",
       "       'Color Me Dead', 'Ektopos', 'Middle Age Spread', 'Ned Kelly',\n",
       "       'Run Rebecca, Run!', 'Ryder Country',\n",
       "       'The Chant of Jimmie Blacksmith', 'The King of the Two Day Wonder',\n",
       "       \"They're a Weird Mob\", 'The Fluffer',\n",
       "       'All Neat in Black Stockings', 'Braveheart', 'Family Life',\n",
       "       'In the Name of the Father', 'L.A. Without a Map', 'Shiner',\n",
       "       'The 14', 'The Final Curtain', 'The Saint', 'The Smoke',\n",
       "       '2001: A Space Odyssey', 'Dateline Diamonds', 'Finders Keepers',\n",
       "       'Mr. Forbush and the Penguins', 'The Last Minute', 'U-571',\n",
       "       'W.M.D.', 'Bucktown', 'Die Laughing', 'Klansman', 'Loose Shoes',\n",
       "       'Massive Retaliation', 'No Small Affair', 'Peggy Sue Got Married',\n",
       "       'Shoot the Moon', 'Space Is the Place', 'Steelyard Blues',\n",
       "       'Sudden Impact', 'The Big Bus', 'The Candidate',\n",
       "       \"The Spirit of '76\", 'The Survivors', 'Freebie and the Bean',\n",
       "       'The Enforcer', 'The Promise', 'Enduring Love', 'Saving Grace',\n",
       "       'The Oxford Murders', \"A Hard Day's Night\", 'A Kind of Loving',\n",
       "       'A Study in Terror', 'Adam and Evelyne',\n",
       "       'And Now for Something Completely Different', 'Band of Thieves',\n",
       "       'Beau Brummell', 'Becket', 'Billy Budd', 'Blowup', 'Car Trouble',\n",
       "       'Carry on at Your Convenience', 'Champions', 'Charlie Bubbles',\n",
       "       'Clash of the Titans', 'Crooks Anonymous',\n",
       "       'Digby, the Biggest Dog in the World', 'Doomwatch',\n",
       "       'Father Came Too!', 'Feast of July', 'Gaiety George', 'Henry V',\n",
       "       'Herostratus', 'Hide and Seek', 'I Could Go on Singing',\n",
       "       'I Thank a Fool', \"I'll Never Forget What's'isname\",\n",
       "       \"I've Gotta Horse\", 'Joey Boy', \"Lady Chatterley's Lover\",\n",
       "       'Love Thy Neighbour', 'Mister Ten Per Cent',\n",
       "       'Nineteen Eighty-Four', 'On the Fiddle', 'Piccadilly Incident',\n",
       "       'Press for Time', 'Robbery', 'Robin Hood: Prince of Thieves',\n",
       "       'Rotten to the Core', 'Santa Claus: The Movie',\n",
       "       'Siege of the Saxons', 'Steptoe and Son Ride Again',\n",
       "       'Stranger in the House', \"Strangler's Web\",\n",
       "       \"The Adventure of Sherlock Holmes' Smarter Brother\",\n",
       "       'The Alf Garnett Saga', 'The Amazing Mr. Blunden',\n",
       "       'The Anniversary', 'The Dock Brief', 'The Girl on the Boat',\n",
       "       'The Heroes of Telemark', 'The Hour of the Pig',\n",
       "       'The L-Shaped Room', 'The Liquidator',\n",
       "       'The List of Adrian Messenger', 'The Master of Bankdam',\n",
       "       'The Mouse on the Moon', 'The Mouse That Roared', 'The Offence',\n",
       "       'The Raging Moon', 'The Rise and Rise of Michael Rimmer',\n",
       "       'The Secret Agent', 'The Secret of Blood Island',\n",
       "       'The Small World of Sammy Lee', 'Three Hats for Lisa',\n",
       "       'Till Death Us Do Part', 'Two and Two Make Six',\n",
       "       'Una lucertola con la pelle di donna', 'What a Whopper',\n",
       "       'Withnail & I', 'Yangtse Incident: The Story of H.M.S. Amethyst',\n",
       "       'Young Sherlock Holmes', 'City on Fire',\n",
       "       'For Those Who Think Young', 'Love Me Like I Do',\n",
       "       'Nightmare in the Sun', 'Street Wars', 'The Cremators',\n",
       "       'Secrets of a Windmill Girl', \"A Midsummer Night's Rave\",\n",
       "       'Appointment with Death',\n",
       "       'Austin Powers: International Man of Mystery',\n",
       "       \"Charlie's Angels: Full Throttle\", 'Cougar Club', 'Drop Dead Fred',\n",
       "       'Garbo Talks', 'Hannah and Her Sisters', 'Heartbreakers',\n",
       "       'Hollywood Vice Squad', 'Hook', 'Lisa Picard Is Famous',\n",
       "       'Loverboy', 'Maps to the Stars', \"Mr. Mike's Mondo Video\",\n",
       "       'Shampoo', \"She's Back\", 'Sibling Rivalry', 'Soapdish',\n",
       "       \"Staar: She'd Rather Be a Mistress\",\n",
       "       'Star Wars: Episode VIII - The Last Jedi', 'Stateside',\n",
       "       \"The 'Burbs\", 'The Blues Brothers', 'The Man with One Red Shoe',\n",
       "       'The Time Guardian', 'The Women', 'This Is My Life',\n",
       "       'Under the Rainbow', 'Undiscovered', 'When Harry Met Sally...',\n",
       "       \"White Lightnin'\", 'Wonderland', 'Wonderwell', 'A Touch of Love',\n",
       "       'Esther Waters', 'Hope and Glory', 'I Live in Grosvenor Square',\n",
       "       'Meet Me at Dawn', 'Raising a Riot', 'Salute the Toff',\n",
       "       'Son of Robin Hood', 'Staircase', 'The History of Mr. Polly',\n",
       "       'The Last Man to Hang?', 'Trio', 'Two Gentlemen Sharing',\n",
       "       'Welcome, Mr. Washington', 'Your Witness', \"Bridget Jones's Diary\",\n",
       "       'De-Lovely', 'Die Another Day', 'Four Weddings and a Funeral',\n",
       "       'Strike It Rich', 'Tommy', 'Astro Boy', 'Detenute violente',\n",
       "       'Felony', 'Perverse oltre le sbarre', \"A Doll's House\",\n",
       "       'Are You Being Served?', 'Confessions from a Holiday Camp',\n",
       "       'Death Defying Acts', 'George and Mildred', 'International Velvet',\n",
       "       'Miss Pettigrew Lives for a Day', 'Miss Potter',\n",
       "       \"No Sex Please: We're British\"], dtype=object)"
      ]
     },
     "execution_count": 184,
     "metadata": {},
     "output_type": "execute_result"
    }
   ],
   "source": [
    "films_after_starwars"
   ]
  }
 ],
 "metadata": {
  "kernelspec": {
   "display_name": "Python 3 (ipykernel)",
   "language": "python",
   "name": "python3"
  },
  "language_info": {
   "codemirror_mode": {
    "name": "ipython",
    "version": 3
   },
   "file_extension": ".py",
   "mimetype": "text/x-python",
   "name": "python",
   "nbconvert_exporter": "python",
   "pygments_lexer": "ipython3",
   "version": "3.11.5"
  }
 },
 "nbformat": 4,
 "nbformat_minor": 5
}
